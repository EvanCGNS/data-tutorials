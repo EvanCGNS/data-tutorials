{
 "cells": [
  {
   "cell_type": "markdown",
   "id": "configured-studio",
   "metadata": {},
   "source": [
    "# Exploring Observation Statistics From Tilde"
   ]
  },
  {
   "cell_type": "markdown",
   "id": "charged-mechanism",
   "metadata": {},
   "source": [
    "## &nbsp;Table of contents\n",
    "### 1. Building a Basic Tilde Query and Extracting the Key Statistics\n",
    "### 2. Building a Query using startdate and enddate parameters\n",
    "### 3. Building a Query using parameters from the last 7 days\n",
    "### 4. Building a Query using Percentiles\n",
    "### 5. Comparing query results from several stations"
   ]
  },
  {
   "cell_type": "markdown",
   "id": "defensive-promotion",
   "metadata": {},
   "source": [
    "## &nbsp;1. Building a Basic Tilde Query and Extracting the Key Statistics"
   ]
  },
  {
   "cell_type": "markdown",
   "id": "republican-mailing",
   "metadata": {},
   "source": [
    "###### Import required modules and set the source URL"
   ]
  },
  {
   "cell_type": "code",
   "execution_count": 1,
   "id": "fitted-honor",
   "metadata": {},
   "outputs": [],
   "source": [
    "import requests\n",
    "import json\n",
    "import pandas as pd\n",
    "import matplotlib.pyplot as plt\n",
    "from tabulate import tabulate"
   ]
  },
  {
   "cell_type": "code",
   "execution_count": 2,
   "id": "english-clearing",
   "metadata": {},
   "outputs": [],
   "source": [
    "source = 'https://tilde.geonet.org.nz/v3'"
   ]
  },
  {
   "cell_type": "markdown",
   "id": "humanitarian-collapse",
   "metadata": {},
   "source": [
    "### A basic query with the minimum required parameters\n",
    "\n",
    "The query is `https://tilde.geonet.org.nz/v3/stats/` with the source URL being stated above `https://tilde.geonet.org.nz`.\n",
    "\n",
    "The minimum required parameters are:\n",
    "- domain = `envirosensor`\n",
    "- key = `NA002/fumarole-temperature/02/snapshot/nil`\n",
    "\n",
    "This specifies a station `NA002`, a data name `fumarole-temperature`, a sensor code `02`, a data method `snapshot`, and no aspect information (specified by `nil`).\n",
    "\n",
    "Optional parameters are:\n",
    "- startdate = `latest` or `2022-03-01`\n",
    "- enddate = `7d` or `2022-03-15`"
   ]
  },
  {
   "cell_type": "code",
   "execution_count": 3,
   "id": "weekly-petersburg",
   "metadata": {},
   "outputs": [],
   "source": [
    "url = source+'/stats/envirosensor/NA002/fumarole-temperature/02/snapshot/nil'"
   ]
  },
  {
   "cell_type": "code",
   "execution_count": 4,
   "id": "numerical-concern",
   "metadata": {},
   "outputs": [
    {
     "name": "stdout",
     "output_type": "stream",
     "text": [
      "<Response [200]>\n"
     ]
    }
   ],
   "source": [
    "r = requests.get(url)\n",
    "print (r)"
   ]
  },
  {
   "cell_type": "markdown",
   "id": "equal-institute",
   "metadata": {},
   "source": [
    "###### Store the response as a nested dictionary and see the output"
   ]
  },
  {
   "cell_type": "markdown",
   "id": "noticed-ratio",
   "metadata": {},
   "source": [
    "A nested dictionary in python is a dictionary within a dictionary. It's a collection of dictionaries into one single directory. In TILDE, each domain has different entries which sit within that specific domain name, e.g. for example, the envirosensor entries sit within the envirosensor domain. By creating a nested dictionary we can then specify the domain and then split it by domain name. `summary` is our nested dictionary and when printed we can see that there are a lot of key:value pairs. "
   ]
  },
  {
   "cell_type": "code",
   "execution_count": 5,
   "id": "talented-cable",
   "metadata": {},
   "outputs": [
    {
     "data": {
      "text/plain": [
       "dict"
      ]
     },
     "execution_count": 5,
     "metadata": {},
     "output_type": "execute_result"
    }
   ],
   "source": [
    "summary = r.json()\n",
    "type(summary)"
   ]
  },
  {
   "cell_type": "code",
   "execution_count": 6,
   "id": "retained-clock",
   "metadata": {},
   "outputs": [
    {
     "data": {
      "text/plain": [
       "{'series': {'domain': 'envirosensor',\n",
       "  'station': 'NA002',\n",
       "  'name': 'fumarole-temperature',\n",
       "  'sensorCode': '02',\n",
       "  'method': 'snapshot',\n",
       "  'aspect': 'nil'},\n",
       " 'latitude': -39.1564,\n",
       " 'longitude': 175.6347,\n",
       " 'elevationM': 2280,\n",
       " 'datum': 'WGS84',\n",
       " 'relativeHeightM': 0,\n",
       " 'valueUnit': 'degC',\n",
       " 'errorUnit': 'degC',\n",
       " 'first': {'val': 84, 'err': 0, 'qc': '', 'ts': '2021-05-06T04:00:00Z'},\n",
       " 'last': {'val': 78.18655, 'err': 0, 'qc': '', 'ts': '2024-03-21T23:50:00Z'},\n",
       " 'maximum': {'val': 85.400002,\n",
       "  'err': 0,\n",
       "  'qc': '',\n",
       "  'ts': '2021-05-10T12:00:00Z'},\n",
       " 'minimum': {'val': 1.426, 'err': 0, 'qc': '', 'ts': '2022-11-01T14:40:00Z'},\n",
       " 'count': 142595,\n",
       " 'mean': 77.9539,\n",
       " 'median': 79.83,\n",
       " 'populationStdDev': 8.8039,\n",
       " 'percentiles': None}"
      ]
     },
     "execution_count": 6,
     "metadata": {},
     "output_type": "execute_result"
    }
   ],
   "source": [
    "summary"
   ]
  },
  {
   "cell_type": "markdown",
   "id": "unable-claim",
   "metadata": {},
   "source": [
    "##### We can then specify the series\n",
    "<br>\n",
    "Extract the key statistics and display them in a more readable format. To do this, we select the 'series' key of the dictionary and assign it to a new dictionary called `my_series`. Printing the output of `my_series`, can also be compared to `summary` above to see what happens when we select this key."
   ]
  },
  {
   "cell_type": "code",
   "execution_count": 7,
   "id": "desperate-factory",
   "metadata": {},
   "outputs": [
    {
     "data": {
      "text/plain": [
       "{'domain': 'envirosensor',\n",
       " 'station': 'NA002',\n",
       " 'name': 'fumarole-temperature',\n",
       " 'sensorCode': '02',\n",
       " 'method': 'snapshot',\n",
       " 'aspect': 'nil'}"
      ]
     },
     "execution_count": 7,
     "metadata": {},
     "output_type": "execute_result"
    }
   ],
   "source": [
    "my_series = summary['series']\n",
    "my_series"
   ]
  },
  {
   "cell_type": "markdown",
   "id": "pharmaceutical-decade",
   "metadata": {},
   "source": [
    "We can also add some other key statistics from our dictionary `summary`, by using the same method that we did for 'series'. To specify the statistics required, we need to make sure we are selected the correct values. For example, within `summary`, the dictionary `first` has multiple keys ('value', 'err', 'qc', and 'ts'). To specify the first observed time we would need `summary['first']['ts']`. For other keys within `summary` that don't have sub-keys (e.g. count, mean, median), we can just use `summary['count']`. "
   ]
  },
  {
   "cell_type": "code",
   "execution_count": 8,
   "id": "historical-prophet",
   "metadata": {},
   "outputs": [],
   "source": [
    "my_series['first obs'] = summary['first']['ts']\n",
    "my_series['last obs'] = summary['last']['ts']\n",
    "my_series['maximum obs'] = summary['maximum']['val']\n",
    "my_series['minimum obs'] = summary['minimum']['val']\n",
    "my_series['number obs'] = summary['count']\n",
    "my_series['mean obs'] = summary['mean']\n",
    "my_series['median obs'] = summary['median']\n",
    "my_series['population stdev'] = summary['populationStdDev']"
   ]
  },
  {
   "cell_type": "markdown",
   "id": "local-clerk",
   "metadata": {},
   "source": [
    "We can now print `my_series` in a nice, easily readable table by using tabulate (https://pypi.org/project/tabulate/), which allows to print items to a table using (my_series.item()). The type of table format has many different options, such as 'simple', 'grid', 'fancy_grid', and 'presto' available. "
   ]
  },
  {
   "cell_type": "markdown",
   "id": "passing-monaco",
   "metadata": {},
   "source": [
    "If `tabulate` is not installed (if using an older version of the `environment.yml` file), either run `conda env update -f environment.yml` after pulling the most recent environment.yml file from the data-tutorials github repository or run `conda install -c conda-forge tabulate` in a terminal within your conda environment."
   ]
  },
  {
   "cell_type": "code",
   "execution_count": 9,
   "id": "liberal-texas",
   "metadata": {},
   "outputs": [
    {
     "name": "stdout",
     "output_type": "stream",
     "text": [
      "| Parameter        | Value                |\n",
      "|------------------|----------------------|\n",
      "| domain           | envirosensor         |\n",
      "| station          | NA002                |\n",
      "| name             | fumarole-temperature |\n",
      "| sensorCode       | 02                   |\n",
      "| method           | snapshot             |\n",
      "| aspect           | nil                  |\n",
      "| first obs        | 2021-05-06T04:00:00Z |\n",
      "| last obs         | 2024-03-21T23:50:00Z |\n",
      "| maximum obs      | 85.400002            |\n",
      "| minimum obs      | 1.426                |\n",
      "| number obs       | 142595               |\n",
      "| mean obs         | 77.9539              |\n",
      "| median obs       | 79.83                |\n",
      "| population stdev | 8.8039               |\n"
     ]
    }
   ],
   "source": [
    "headers = ['Parameter', 'Value']\n",
    "data = [(k,v) for k,v in my_series.items()]\n",
    "print (tabulate(data, headers=headers, tablefmt='github'))"
   ]
  },
  {
   "cell_type": "markdown",
   "id": "middle-allah",
   "metadata": {},
   "source": [
    "## &nbsp;2. Building a Query using startdate and enddate parameters\n",
    "\n",
    "The minimum required parameters are:\n",
    "- domain = `dart`\n",
    "- key = `NZJ/water-height-detided/40/15m/nil`\n",
    "\n",
    "This specifies a station `NZJ`, a data name `water-height-detided`, a sensor code `40`, a data method `15m`, and no aspect information (specified by `nil`).\n",
    "\n",
    "We will now be adding a start date and end date of:\n",
    "- startdate = `2022-03-01`\n",
    "- enddate = `2022-03-10`\n",
    "\n",
    "For this, we will begin by changing our URL and then generating a nested dictionary called `summary`, as shown previously. Printing the summary will show a very similar summary to above, but this time the first and last datapoints will be what we have specified in the URL. Feel free to test this by uncommenting `summary` to see what the output is. "
   ]
  },
  {
   "cell_type": "code",
   "execution_count": 10,
   "id": "valued-nurse",
   "metadata": {},
   "outputs": [
    {
     "data": {
      "text/plain": [
       "{'series': {'domain': 'dart',\n",
       "  'station': 'NZJ',\n",
       "  'name': 'water-height-detided',\n",
       "  'sensorCode': '40',\n",
       "  'method': '15m',\n",
       "  'aspect': 'nil'},\n",
       " 'latitude': -26.6672,\n",
       " 'longitude': 163.9549,\n",
       " 'elevationM': 0,\n",
       " 'datum': 'WGS84',\n",
       " 'relativeHeightM': -1912,\n",
       " 'valueUnit': 'm',\n",
       " 'errorUnit': 'm',\n",
       " 'first': {'val': -0.0775, 'err': 0, 'qc': '', 'ts': '2022-03-01T00:00:00Z'},\n",
       " 'last': {'val': -0.0607, 'err': 0, 'qc': '', 'ts': '2022-03-10T23:45:00Z'},\n",
       " 'maximum': {'val': 0.0273, 'err': 0, 'qc': '', 'ts': '2022-03-08T00:00:00Z'},\n",
       " 'minimum': {'val': -0.1903, 'err': 0, 'qc': '', 'ts': '2022-03-10T19:15:00Z'},\n",
       " 'count': 960,\n",
       " 'mean': -0.0861,\n",
       " 'median': -0.0896,\n",
       " 'populationStdDev': 0.0494,\n",
       " 'percentiles': None}"
      ]
     },
     "execution_count": 10,
     "metadata": {},
     "output_type": "execute_result"
    }
   ],
   "source": [
    "url = source+'/stats/dart/NZJ/water-height-detided/40/15m/nil/2022-03-01/2022-03-10'\n",
    "\n",
    "r = requests.get(url)\n",
    "summary = r.json()\n",
    "summary"
   ]
  },
  {
   "cell_type": "markdown",
   "id": "entire-police",
   "metadata": {},
   "source": [
    "We will now use a similar method as we did before and select the `series` component of the dictionary as well as adding some other key statistics as we did above. "
   ]
  },
  {
   "cell_type": "code",
   "execution_count": 11,
   "id": "color-parade",
   "metadata": {},
   "outputs": [
    {
     "data": {
      "text/plain": [
       "{'domain': 'dart',\n",
       " 'station': 'NZJ',\n",
       " 'name': 'water-height-detided',\n",
       " 'sensorCode': '40',\n",
       " 'method': '15m',\n",
       " 'aspect': 'nil'}"
      ]
     },
     "execution_count": 11,
     "metadata": {},
     "output_type": "execute_result"
    }
   ],
   "source": [
    "my_series2 = summary['series']\n",
    "my_series2"
   ]
  },
  {
   "cell_type": "code",
   "execution_count": 12,
   "id": "returning-discussion",
   "metadata": {},
   "outputs": [],
   "source": [
    "my_series2['first obs'] = summary['first']['ts']\n",
    "my_series2['last obs'] = summary['last']['ts']\n",
    "my_series2['maximum obs'] = summary['maximum']['val']\n",
    "my_series2['minimum obs'] = summary['minimum']['val']\n",
    "my_series2['number obs'] = summary['count']\n",
    "my_series2['mean obs'] = summary['mean']\n",
    "my_series2['median obs'] = summary['median']\n",
    "my_series2['population stdev'] = summary['populationStdDev']"
   ]
  },
  {
   "cell_type": "markdown",
   "id": "raised-closure",
   "metadata": {},
   "source": [
    "As before we will now use tabulate and print this into a table. In this table we can see that the `first obs` and the `last obs` are using the start and end dates that we specified in the URL."
   ]
  },
  {
   "cell_type": "code",
   "execution_count": 13,
   "id": "manufactured-music",
   "metadata": {},
   "outputs": [
    {
     "name": "stdout",
     "output_type": "stream",
     "text": [
      "| Parameter        | Value                |\n",
      "|------------------|----------------------|\n",
      "| domain           | dart                 |\n",
      "| station          | NZJ                  |\n",
      "| name             | water-height-detided |\n",
      "| sensorCode       | 40                   |\n",
      "| method           | 15m                  |\n",
      "| aspect           | nil                  |\n",
      "| first obs        | 2022-03-01T00:00:00Z |\n",
      "| last obs         | 2022-03-10T23:45:00Z |\n",
      "| maximum obs      | 0.0273               |\n",
      "| minimum obs      | -0.1903              |\n",
      "| number obs       | 960                  |\n",
      "| mean obs         | -0.0861              |\n",
      "| median obs       | -0.0896              |\n",
      "| population stdev | 0.0494               |\n"
     ]
    }
   ],
   "source": [
    "headers = ['Parameter', 'Value']\n",
    "data = [(k,v) for k,v in my_series2.items()]\n",
    "print (tabulate(data, headers=headers, tablefmt='github'))"
   ]
  },
  {
   "cell_type": "markdown",
   "id": "external-advocate",
   "metadata": {},
   "source": [
    "## &nbsp;3. Building a Query using parameters from the last 7 days\n",
    "\n",
    "The minimum required parameters are:\n",
    "- domain = `coastal`\n",
    "- key = `NAPT/fumarole-temperature/02/snapshot/nil`\n",
    "\n",
    "This specifies a station `NA002`, a data name `fumarole-temperature`, a sensor code `02`, a data method `snapshot`, and no aspect information (specified by `nil`).\n",
    "\n",
    "We will now be adding:\n",
    "- `latest`\n",
    "- period = `7d`\n",
    "\n",
    "The latest `period` can be 30d (latest 30 days), 7d, 2d, 1d, or 6h (latest 6 hours). Other periods will produce an error.\n",
    "\n",
    "When calculating the start of the query, the current time is taken into account.\n",
    "\n",
    "We will begin again by changing our URL and then generating a nested dictionary called `summary`, as shown previously. Printing the summary will show a very similar summary to above, but this time we will be seeing the first and last data points for the data period that has been selected, in this case the last 7 days from the current time. Feel free to test this by uncommenting `summary` to see what the output is.  "
   ]
  },
  {
   "cell_type": "code",
   "execution_count": 14,
   "id": "prepared-discussion",
   "metadata": {},
   "outputs": [],
   "source": [
    "url = source+'/stats/coastal/WLGT/water-height/41/15s/nil/latest/7d'\n",
    "\n",
    "r = requests.get(url)\n",
    "summary = r.json()\n",
    "#summary"
   ]
  },
  {
   "cell_type": "markdown",
   "id": "ancient-means",
   "metadata": {},
   "source": [
    "We will now use a similar method as we have done before and select the `series` component of the dictionary as well as adding some other key statistics. "
   ]
  },
  {
   "cell_type": "code",
   "execution_count": 15,
   "id": "bottom-conclusion",
   "metadata": {},
   "outputs": [],
   "source": [
    "#selecting the series component of the `summary` dictionary\n",
    "my_series3 = summary['series']"
   ]
  },
  {
   "cell_type": "code",
   "execution_count": 16,
   "id": "dried-finance",
   "metadata": {},
   "outputs": [],
   "source": [
    "#selecting key statistics\n",
    "my_series3['first obs'] = summary['first']['ts']\n",
    "my_series3['last obs'] = summary['last']['ts']\n",
    "my_series3['maximum obs'] = summary['maximum']['val']\n",
    "my_series3['minimum obs'] = summary['minimum']['val']\n",
    "my_series3['number obs'] = summary['count']\n",
    "my_series3['mean obs'] = summary['mean']\n",
    "my_series3['median obs'] = summary['median']\n",
    "my_series3['population stdev'] = summary['populationStdDev']"
   ]
  },
  {
   "cell_type": "markdown",
   "id": "familiar-breeding",
   "metadata": {},
   "source": [
    "As before we will now use tabulate and print this into a table. In this table we can see that the `first obs` and the `last obs` are using the data period that we specified in the URL."
   ]
  },
  {
   "cell_type": "code",
   "execution_count": 17,
   "id": "frozen-violin",
   "metadata": {},
   "outputs": [
    {
     "name": "stdout",
     "output_type": "stream",
     "text": [
      "| Parameter        | Value                |\n",
      "|------------------|----------------------|\n",
      "| domain           | coastal              |\n",
      "| station          | WLGT                 |\n",
      "| name             | water-height         |\n",
      "| sensorCode       | 41                   |\n",
      "| method           | 15s                  |\n",
      "| aspect           | nil                  |\n",
      "| first obs        | 2024-03-15T02:03:45Z |\n",
      "| last obs         | 2024-03-22T02:02:30Z |\n",
      "| maximum obs      | 4.0312               |\n",
      "| minimum obs      | 2.3299               |\n",
      "| number obs       | 40316                |\n",
      "| mean obs         | 3.0542               |\n",
      "| median obs       | 3.041                |\n",
      "| population stdev | 0.3899               |\n"
     ]
    }
   ],
   "source": [
    "headers = ['Parameter', 'Value']\n",
    "data = [(k,v) for k,v in my_series3.items()]\n",
    "print (tabulate(data, headers=headers, tablefmt='github'))"
   ]
  },
  {
   "cell_type": "markdown",
   "id": "complimentary-prerequisite",
   "metadata": {},
   "source": [
    "## &nbsp;4. Building a Query using Percentiles\n",
    "\n",
    "The minimum required parameters are:\n",
    "- domain = `envirosensor`\n",
    "- key = `FOXVF/air-humidity/03/snapshot/nil/latest/7d`\n",
    "\n",
    "This specifies a station `FOXVF`, a data name `air-humidity`, a sensor code `03`, a data method `snapshot`, and aspect `nil`.\n",
    "\n",
    "Our query is for the last 7 days.\n",
    "\n",
    "We will now be adding:\n",
    "- `?percentiles=10,75`, 10th and 75th percentiles\n",
    "\n",
    "We will begin again by changing our URL and then generating a nested dictionary called `summary`, as shown previously. Printing the summary will show a very similar summary to above, but this time we will be seeing the 10th and 75th percentiles. Feel free to test this by uncommenting `summary` to see what the output is. In our previous `summary` dictionaries we had `percentile=None`, now we are seeing a specific result. To change to different percentiles, e.g. 25 and 70, just change the URL `?percentiles=25,70`."
   ]
  },
  {
   "cell_type": "code",
   "execution_count": 18,
   "id": "complete-induction",
   "metadata": {},
   "outputs": [],
   "source": [
    "url = source+'/stats/envirosensor/FOXVF/air-humidity/03/snapshot/nil/latest/7d?percentiles=10,75'\n",
    "\n",
    "r = requests.get(url)\n",
    "summary = r.json()\n",
    "#summary"
   ]
  },
  {
   "cell_type": "markdown",
   "id": "earlier-stuff",
   "metadata": {},
   "source": [
    "#### Box-and-whisker plot.\n",
    "If we specified a low and a high percentile, we can summarise the distribution of observations, with a box-and-whisker style plot (https://en.wikipedia.org/wiki/Box_plot). We begin by specifying the median, minimum and maximum values which are avialable directly from the summary dictionary. "
   ]
  },
  {
   "cell_type": "code",
   "execution_count": 19,
   "id": "accredited-little",
   "metadata": {},
   "outputs": [
    {
     "name": "stdout",
     "output_type": "stream",
     "text": [
      "49 82.4 100\n"
     ]
    }
   ],
   "source": [
    "medv = summary['median']\n",
    "minv = summary['minimum']['val']\n",
    "maxv = summary['maximum']['val']\n",
    "print (minv,medv,maxv)"
   ]
  },
  {
   "cell_type": "markdown",
   "id": "altered-speech",
   "metadata": {},
   "source": [
    "From the `percentiles` values in the summary dictionary we can generate more values for the box and whisker plot. Where `lopcp` and `hipcp` are the low and high percentage values that we set in the URL (in this example, 10 and 75), `lopcv` and `hipcv` are the low and high percentage values, `first` and `last` are the first and last timestamp values from the summary dictionary. We can also print all of these variables and see that they match up with the `summary` information above. "
   ]
  },
  {
   "cell_type": "code",
   "execution_count": 20,
   "id": "conservative-concentration",
   "metadata": {},
   "outputs": [
    {
     "name": "stdout",
     "output_type": "stream",
     "text": [
      "[{'percentile': 10, 'value': 67.02}, {'percentile': 75, 'value': 91.5}]\n",
      "10 75 67.02 91.5 2024-03-15T02:10:00Z 2024-03-22T01:50:00Z\n"
     ]
    }
   ],
   "source": [
    "pcs = summary['percentiles']\n",
    "\n",
    "lopcp = pcs[0].get('percentile')\n",
    "hipcp = pcs[1].get('percentile')\n",
    "\n",
    "lopcv = pcs[0].get('value')\n",
    "hipcv = pcs[1].get('value')\n",
    "\n",
    "first = summary['first']['ts']\n",
    "last = summary['last']['ts']\n",
    "\n",
    "print (pcs)\n",
    "print (lopcp,hipcp,lopcv,hipcv,first,last)"
   ]
  },
  {
   "cell_type": "markdown",
   "id": "joint-satin",
   "metadata": {},
   "source": [
    "We will now plot this using a box-and-whisker style by using our above parameters. "
   ]
  },
  {
   "cell_type": "code",
   "execution_count": 21,
   "id": "chronic-hormone",
   "metadata": {},
   "outputs": [
    {
     "data": {
      "text/plain": [
       "<matplotlib.legend.Legend at 0x7f694ad3e920>"
      ]
     },
     "execution_count": 21,
     "metadata": {},
     "output_type": "execute_result"
    },
    {
     "data": {
      "image/png": "[encoded data removed]",
      "text/plain": [
       "<Figure size 640x480 with 1 Axes>"
      ]
     },
     "metadata": {},
     "output_type": "display_data"
    }
   ],
   "source": [
    "fig,ax = plt.subplots()\n",
    "#draw box from lowpcv to hipcv\n",
    "ax.bar(0, hipcv-lopcv, bottom=lopcv, color='#41b0f0', label='precentiles '+str(lopcp)+'-'+str(hipcp))\n",
    "# vertical line from minv to maxv\n",
    "ax.vlines(0, minv, maxv, color='black', label='min-max')\n",
    "#horizontal line at medv\n",
    "ax.hlines(medv, -0.4, 0.4, linestyles='dashed', colors='red', label='median')\n",
    "\n",
    "#make more like a box-and-whisker\n",
    "ax.set_xlim(-1,1)\n",
    "ax.ticklabel_format(useOffset=False, style='plain')\n",
    "plt.xticks([])\n",
    "\n",
    "plt.legend(loc='best')"
   ]
  },
  {
   "cell_type": "markdown",
   "id": "crucial-airplane",
   "metadata": {},
   "source": [
    "## &nbsp;5. Comparing query results from several stations\n",
    "\n",
    "We now make a query for several stations and extract the relevant data from each query, then use this data to demonstrate how to calculate the temperature range for several sites over the time period queried. \n",
    "\n",
    "We can create a list of stations using a data summary query, and then loop through that list, making an API call for each, and accumulating the results. However, for the envirosensor data domain, this is not straightforward as stations do not record the same data series, in contrast to the dart data domain, for example. We create a list of stations by query to show how this is done, but will manually set the station list \n",
    "\n",
    "Our query is for the time period from `2022-03-01` to `2022-03-10`.\n",
    "\n",
    "We will query air-temperature as this is more consistent between sites than fumarole-temperature, which varies substantially from site to site. The air-temperature typically has a sensor code of `01`."
   ]
  },
  {
   "cell_type": "code",
   "execution_count": 22,
   "id": "fatty-jersey",
   "metadata": {},
   "outputs": [],
   "source": [
    "#make a query to get a list of all possible stations to query\n",
    "url = 'https://tilde.geonet.org.nz/v3/dataSummary/envirosensor'\n",
    "r = requests.get(url)\n",
    "summary = r.json()\n",
    "\n",
    "stations = summary['domain']['envirosensor']['stations']\n",
    "stacodes = list(stations.keys())"
   ]
  },
  {
   "cell_type": "code",
   "execution_count": 23,
   "id": "e46b16d0-6232-48ee-ae4a-830384696c37",
   "metadata": {},
   "outputs": [],
   "source": [
    "#manually set stations to look at, some of those measuring air-temperature\n",
    "stacodes = ['NA002', 'TO003', 'TO006']"
   ]
  },
  {
   "cell_type": "markdown",
   "id": "proper-source",
   "metadata": {},
   "source": [
    "The next sub-codes creates the station list with corresponding temperature range. These are the inputs used in the subsequent plot."
   ]
  },
  {
   "cell_type": "code",
   "execution_count": 24,
   "id": "rough-matrix",
   "metadata": {},
   "outputs": [
    {
     "data": {
      "text/html": [
       "<div>\n",
       "<style scoped>\n",
       "    .dataframe tbody tr th:only-of-type {\n",
       "        vertical-align: middle;\n",
       "    }\n",
       "\n",
       "    .dataframe tbody tr th {\n",
       "        vertical-align: top;\n",
       "    }\n",
       "\n",
       "    .dataframe thead th {\n",
       "        text-align: right;\n",
       "    }\n",
       "</style>\n",
       "<table border=\"1\" class=\"dataframe\">\n",
       "  <thead>\n",
       "    <tr style=\"text-align: right;\">\n",
       "      <th></th>\n",
       "      <th>range</th>\n",
       "      <th>min</th>\n",
       "      <th>max</th>\n",
       "    </tr>\n",
       "    <tr>\n",
       "      <th>station</th>\n",
       "      <th></th>\n",
       "      <th></th>\n",
       "      <th></th>\n",
       "    </tr>\n",
       "  </thead>\n",
       "  <tbody>\n",
       "    <tr>\n",
       "      <th>NA002</th>\n",
       "      <td>20.429</td>\n",
       "      <td>5.031</td>\n",
       "      <td>25.46</td>\n",
       "    </tr>\n",
       "    <tr>\n",
       "      <th>TO003</th>\n",
       "      <td>12.850</td>\n",
       "      <td>8.660</td>\n",
       "      <td>21.51</td>\n",
       "    </tr>\n",
       "    <tr>\n",
       "      <th>TO006</th>\n",
       "      <td>10.080</td>\n",
       "      <td>10.620</td>\n",
       "      <td>20.70</td>\n",
       "    </tr>\n",
       "  </tbody>\n",
       "</table>\n",
       "</div>"
      ],
      "text/plain": [
       "          range     min    max\n",
       "station                       \n",
       "NA002    20.429   5.031  25.46\n",
       "TO003    12.850   8.660  21.51\n",
       "TO006    10.080  10.620  20.70"
      ]
     },
     "execution_count": 24,
     "metadata": {},
     "output_type": "execute_result"
    }
   ],
   "source": [
    "#make a dataframe for later use\n",
    "df = pd.DataFrame()\n",
    "\n",
    "#dates for query\n",
    "d1 = '2022-03-01'\n",
    "d2 = '2022-03-10'\n",
    "\n",
    "for code in stacodes:\n",
    "    url = source+'/stats/envirosensor/'+code+'/air-temperature/01/snapshot/nil/'+d1+'/'+d2\n",
    "    r = requests.get(url)\n",
    "    summary = r.json()\n",
    "    \n",
    "    #if maximum and minimum have values, calculate range and append to dataframe\n",
    "    if ((summary['maximum'])and(summary['minimum'])):\n",
    "        value_range = summary['maximum']['val'] - summary['minimum']['val']\n",
    "        #make a dictionary of the extracted data\n",
    "        d = {'range':value_range, 'station':code, 'min':summary['minimum']['val'], 'max':summary['maximum']['val']}\n",
    "        #append this to the dataframe\n",
    "        df = pd.concat([df,pd.DataFrame([d])],ignore_index=True)\n",
    "\n",
    "#make station the dataframe index\n",
    "df.set_index('station', inplace=True)\n",
    "\n",
    "df"
   ]
  },
  {
   "cell_type": "code",
   "execution_count": 25,
   "id": "sharing-geneva",
   "metadata": {},
   "outputs": [
    {
     "data": {
      "text/plain": [
       "Text(0.5, 1.0, '2022-03-01 - 2022-03-10')"
      ]
     },
     "execution_count": 25,
     "metadata": {},
     "output_type": "execute_result"
    },
    {
     "data": {
      "image/png": "[encoded data removed]",
      "text/plain": [
       "<Figure size 1500x500 with 1 Axes>"
      ]
     },
     "metadata": {},
     "output_type": "display_data"
    }
   ],
   "source": [
    "fig,ax = plt.subplots(figsize=(15,5))\n",
    "ax.vlines(df.index, df['min'], df['max'], color='cornflowerblue', label='range')\n",
    "    \n",
    "ax.set_ylabel('Air temperature range (m)')\n",
    "ax.set_xlabel('LRDCP station')\n",
    "\n",
    "plt.suptitle('Air Temperature Range at LRDCP Fumarole Sites ', fontsize=16)\n",
    "plt.title(d1+' - '+d2)"
   ]
  }
 ],
 "metadata": {
  "kernelspec": {
   "display_name": "Python 3 (ipykernel)",
   "language": "python",
   "name": "python3"
  },
  "language_info": {
   "codemirror_mode": {
    "name": "ipython",
    "version": 3
   },
   "file_extension": ".py",
   "mimetype": "text/x-python",
   "name": "python",
   "nbconvert_exporter": "python",
   "pygments_lexer": "ipython3",
   "version": "3.10.13"
  },
  "toc-autonumbering": false,
  "toc-showcode": false,
  "toc-showmarkdowntxt": false
 },
 "nbformat": 4,
 "nbformat_minor": 5
}
