{
 "cells": [
  {
   "cell_type": "markdown",
   "id": "amazing-gateway",
   "metadata": {},
   "source": [
    "# HOW TO RETRIEVE AND USE VOLCANO DATA\n",
    "\n",
    "# Multi-domain data"
   ]
  },
  {
   "cell_type": "markdown",
   "id": "4f633d89-f91b-4c03-9554-12b48bfa0c3b",
   "metadata": {},
   "source": [
    "For data available through [Tilde](https://tilde.geonet.org.nz/ui/data-discovery), there are cases where data from one location are provided through more than one domain.\n",
    "\n",
    "There are also cases where a user might want to work with data from [Tilde](https://tilde.geonet.org.nz/ui/data-discovery) together with data from a completely different source."
   ]
  },
  {
   "cell_type": "markdown",
   "id": "dacab096-e283-478b-abf1-61935e8d931d",
   "metadata": {},
   "source": [
    "## &nbsp;Table of contents\n",
    "### 1. Basic requirements\n",
    "### 2. More than one Tilde domain - lake temperature data\n",
    "### 3. Tilde data and data from a different source - Volcanic Alert Level data and sulphur dioxide emissions\n",
    "### 4. Tilde data and data from a different source - Ruapehu crater lake temperature data and historic volcanic activity"
   ]
  },
  {
   "cell_type": "markdown",
   "id": "5a098d2a-e6a8-4744-92af-cefbfdb1fbd3",
   "metadata": {},
   "source": [
    "## &nbsp;1. Basic requirements"
   ]
  },
  {
   "cell_type": "markdown",
   "id": "clear-possession",
   "metadata": {},
   "source": [
    "### Import required Python modules/libraries"
   ]
  },
  {
   "cell_type": "code",
   "execution_count": 1,
   "id": "juvenile-vaccine",
   "metadata": {},
   "outputs": [],
   "source": [
    "#for querying data\n",
    "import requests\n",
    "import json\n",
    "\n",
    "#pandas for data analysis\n",
    "import pandas as pd\n",
    "\n",
    "#matplotlib for graphing\n",
    "import matplotlib.pyplot as plt\n",
    "\n",
    "#for getting CSV format data\n",
    "from io import StringIO\n",
    "\n",
    "#for system functions\n",
    "import os\n",
    "\n",
    "#for VAL and volcanic activity datetime functionality\n",
    "import datetime as dt"
   ]
  },
  {
   "cell_type": "markdown",
   "id": "065a5ddd-5d30-45bb-9a72-43f7142607bf",
   "metadata": {},
   "source": [
    "### Set the source URL\n",
    "\n",
    "Using [API data endpoint](https://tilde.geonet.org.nz/v4/api-docs/endpoint/data)"
   ]
  },
  {
   "cell_type": "code",
   "execution_count": 2,
   "id": "d7670945-55b0-4d8b-bb62-73ca39e14349",
   "metadata": {},
   "outputs": [],
   "source": [
    "#API version 4 data endpoint\n",
    "source = 'https://tilde.geonet.org.nz/v4/data/'"
   ]
  },
  {
   "cell_type": "markdown",
   "id": "95e44d60-e500-4d73-b530-0d165b43acdd",
   "metadata": {},
   "source": [
    "## &nbsp;2. More than one Tilde domain\n",
    "## Basic data retrieval and graphing"
   ]
  },
  {
   "cell_type": "markdown",
   "id": "1d47adb7-9b24-4016-a6e6-9dc6686fe2c5",
   "metadata": {},
   "source": [
    "We request lake temperature data from Inferno Crater using `enivirosensor` and `manualcollect` domains"
   ]
  },
  {
   "cell_type": "markdown",
   "id": "77df918e-97d2-440a-b734-70f065ecb9d3",
   "metadata": {},
   "source": [
    "**envirosensor**\n",
    "- domain = `envirosensor`\n",
    "\n",
    "The specific parameters are:\n",
    "  - station = `OT001`, the station code for Inferno Crater\n",
    "  - name (type of data) = `lake-temperature`\n",
    "  - sensorcode = `01`, code for the specific sensor number\n",
    "  - method (of data collection) = `snapshot`\n",
    "  - aspect = `-`, not set as not relevant for this query\n",
    "\n",
    "The resulting `key` specifies the data stream:\n",
    "  - `OT001/lake-temperature/01/snapshot/-`\n",
    "\n",
    "Date range:\n",
    "  - startdate = `2023-05-01`\n",
    "  - enddate = `2024-05-01`\n",
    "\n",
    "Complete request\n",
    "- `envirosensor/OT001/lake-temperature/01/snapshot/-/2023-05-01/2024-05-01`"
   ]
  },
  {
   "cell_type": "code",
   "execution_count": 3,
   "id": "97f37d5a-27b1-404f-9ba9-b68daea1c3d4",
   "metadata": {},
   "outputs": [],
   "source": [
    "url = source+'envirosensor/OT001/lake-temperature/01/snapshot/-/2023-05-01/2024-05-01'"
   ]
  },
  {
   "cell_type": "markdown",
   "id": "8b685056-911e-4788-a07c-e55a8bf7b7a5",
   "metadata": {},
   "source": [
    "We will now query the URL and ask for a CSV format to be returned. A 200 response code indicates everything went okay, and the result has been returned (if any)."
   ]
  },
  {
   "cell_type": "code",
   "execution_count": 4,
   "id": "05455c11-2824-448a-a01a-8545f2058e95",
   "metadata": {},
   "outputs": [
    {
     "name": "stdout",
     "output_type": "stream",
     "text": [
      "<Response [200]>\n"
     ]
    }
   ],
   "source": [
    "r = requests.get(url, headers={'Accept':'text/csv'})\n",
    "print (r)"
   ]
  },
  {
   "cell_type": "markdown",
   "id": "7569c3e6-f56d-4794-9f4b-337dc00e7131",
   "metadata": {},
   "source": [
    "To work with the observation data we will use python's [pandas module](https://pandas.pydata.org/). We will now store the response of our request in a pandas dataframe (`enviro`), using `pd.read_csv`. By using `parse_dates=['timestamp']` we can convert the 'timestamp' column to a datetime, which makes it easier to work with the data. We add `date_format='ISO8601'` to ensure that pandas uses the full `ISO 8601` datetime format we record our data in. Using `index_col`, we can set the date and time as the index of the dataframe. More information on `pd.read_csv` can be found here: https://pandas.pydata.org/pandas-docs/stable/reference/api/pandas.read_csv.html. We need to use the `StringIO` function with the text returned from our query. By printing the beginning of the result, with `enviro.head()`, we can see the first 5 lines of the dataframe from our query.\n",
    "\n",
    "Once we have the data in the dataframe, we can begin to our analysis."
   ]
  },
  {
   "cell_type": "code",
   "execution_count": 5,
   "id": "17ee5721-f332-4f0b-b834-46271edb9131",
   "metadata": {},
   "outputs": [
    {
     "data": {
      "text/html": [
       "<div>\n",
       "<style scoped>\n",
       "    .dataframe tbody tr th:only-of-type {\n",
       "        vertical-align: middle;\n",
       "    }\n",
       "\n",
       "    .dataframe tbody tr th {\n",
       "        vertical-align: top;\n",
       "    }\n",
       "\n",
       "    .dataframe thead th {\n",
       "        text-align: right;\n",
       "    }\n",
       "</style>\n",
       "<table border=\"1\" class=\"dataframe\">\n",
       "  <thead>\n",
       "    <tr style=\"text-align: right;\">\n",
       "      <th></th>\n",
       "      <th>domain</th>\n",
       "      <th>station</th>\n",
       "      <th>name</th>\n",
       "      <th>sensorCode</th>\n",
       "      <th>method</th>\n",
       "      <th>aspect</th>\n",
       "      <th>value</th>\n",
       "      <th>valueUnit</th>\n",
       "      <th>error</th>\n",
       "      <th>errorUnit</th>\n",
       "      <th>qualityControl</th>\n",
       "    </tr>\n",
       "    <tr>\n",
       "      <th>timestamp</th>\n",
       "      <th></th>\n",
       "      <th></th>\n",
       "      <th></th>\n",
       "      <th></th>\n",
       "      <th></th>\n",
       "      <th></th>\n",
       "      <th></th>\n",
       "      <th></th>\n",
       "      <th></th>\n",
       "      <th></th>\n",
       "      <th></th>\n",
       "    </tr>\n",
       "  </thead>\n",
       "  <tbody>\n",
       "    <tr>\n",
       "      <th>2023-05-01 00:00:00+00:00</th>\n",
       "      <td>envirosensor</td>\n",
       "      <td>OT001</td>\n",
       "      <td>lake-temperature</td>\n",
       "      <td>1</td>\n",
       "      <td>snapshot</td>\n",
       "      <td>nil</td>\n",
       "      <td>65.11</td>\n",
       "      <td>degC</td>\n",
       "      <td>0.0</td>\n",
       "      <td>degC</td>\n",
       "      <td>NaN</td>\n",
       "    </tr>\n",
       "    <tr>\n",
       "      <th>2023-05-01 00:10:00+00:00</th>\n",
       "      <td>envirosensor</td>\n",
       "      <td>OT001</td>\n",
       "      <td>lake-temperature</td>\n",
       "      <td>1</td>\n",
       "      <td>snapshot</td>\n",
       "      <td>nil</td>\n",
       "      <td>65.01</td>\n",
       "      <td>degC</td>\n",
       "      <td>0.0</td>\n",
       "      <td>degC</td>\n",
       "      <td>NaN</td>\n",
       "    </tr>\n",
       "    <tr>\n",
       "      <th>2023-05-01 00:20:00+00:00</th>\n",
       "      <td>envirosensor</td>\n",
       "      <td>OT001</td>\n",
       "      <td>lake-temperature</td>\n",
       "      <td>1</td>\n",
       "      <td>snapshot</td>\n",
       "      <td>nil</td>\n",
       "      <td>64.97</td>\n",
       "      <td>degC</td>\n",
       "      <td>0.0</td>\n",
       "      <td>degC</td>\n",
       "      <td>NaN</td>\n",
       "    </tr>\n",
       "    <tr>\n",
       "      <th>2023-05-01 00:30:00+00:00</th>\n",
       "      <td>envirosensor</td>\n",
       "      <td>OT001</td>\n",
       "      <td>lake-temperature</td>\n",
       "      <td>1</td>\n",
       "      <td>snapshot</td>\n",
       "      <td>nil</td>\n",
       "      <td>64.91</td>\n",
       "      <td>degC</td>\n",
       "      <td>0.0</td>\n",
       "      <td>degC</td>\n",
       "      <td>NaN</td>\n",
       "    </tr>\n",
       "    <tr>\n",
       "      <th>2023-05-01 00:40:00+00:00</th>\n",
       "      <td>envirosensor</td>\n",
       "      <td>OT001</td>\n",
       "      <td>lake-temperature</td>\n",
       "      <td>1</td>\n",
       "      <td>snapshot</td>\n",
       "      <td>nil</td>\n",
       "      <td>64.81</td>\n",
       "      <td>degC</td>\n",
       "      <td>0.0</td>\n",
       "      <td>degC</td>\n",
       "      <td>NaN</td>\n",
       "    </tr>\n",
       "  </tbody>\n",
       "</table>\n",
       "</div>"
      ],
      "text/plain": [
       "                                 domain station              name  sensorCode  \\\n",
       "timestamp                                                                       \n",
       "2023-05-01 00:00:00+00:00  envirosensor   OT001  lake-temperature           1   \n",
       "2023-05-01 00:10:00+00:00  envirosensor   OT001  lake-temperature           1   \n",
       "2023-05-01 00:20:00+00:00  envirosensor   OT001  lake-temperature           1   \n",
       "2023-05-01 00:30:00+00:00  envirosensor   OT001  lake-temperature           1   \n",
       "2023-05-01 00:40:00+00:00  envirosensor   OT001  lake-temperature           1   \n",
       "\n",
       "                             method aspect  value valueUnit  error errorUnit  \\\n",
       "timestamp                                                                      \n",
       "2023-05-01 00:00:00+00:00  snapshot    nil  65.11      degC    0.0      degC   \n",
       "2023-05-01 00:10:00+00:00  snapshot    nil  65.01      degC    0.0      degC   \n",
       "2023-05-01 00:20:00+00:00  snapshot    nil  64.97      degC    0.0      degC   \n",
       "2023-05-01 00:30:00+00:00  snapshot    nil  64.91      degC    0.0      degC   \n",
       "2023-05-01 00:40:00+00:00  snapshot    nil  64.81      degC    0.0      degC   \n",
       "\n",
       "                           qualityControl  \n",
       "timestamp                                  \n",
       "2023-05-01 00:00:00+00:00             NaN  \n",
       "2023-05-01 00:10:00+00:00             NaN  \n",
       "2023-05-01 00:20:00+00:00             NaN  \n",
       "2023-05-01 00:30:00+00:00             NaN  \n",
       "2023-05-01 00:40:00+00:00             NaN  "
      ]
     },
     "execution_count": 5,
     "metadata": {},
     "output_type": "execute_result"
    }
   ],
   "source": [
    "enviro = pd.read_csv(StringIO(r.text),parse_dates=['timestamp'], date_format='ISO8601', index_col='timestamp')\n",
    "enviro.head()"
   ]
  },
  {
   "cell_type": "markdown",
   "id": "f6e96bfe-5979-4e76-a62d-e14a203dbd97",
   "metadata": {},
   "source": [
    "##### **manualcollect**\n",
    "- domain = `manualcollect`\n",
    "\n",
    "The specific parameters are:\n",
    "  - station = `OT001`, the station code for Inferno Crater\n",
    "  - name (type of data) = `lake-temperature`\n",
    "  - sensorcode = `MC01`, code for the specific sensor number\n",
    "  - method (of data collection) = `thermocouple`\n",
    "  - aspect = `-`, not set as not relevant for this query\n",
    "\n",
    "The resulting `key` specifies the data stream:\n",
    "  - `OT001/lake-temperature/MC01/thermocouple/-`\n",
    "\n",
    "Date range:\n",
    "  - startdate = `2023-01-01`\n",
    "  - enddate = `2024-08-31`\n",
    "\n",
    "Complete request\n",
    "- `manualcollect/OT001/lake-temperature/MC01/thermocouple/-/2023-01-01/2024-08-31`"
   ]
  },
  {
   "cell_type": "code",
   "execution_count": 6,
   "id": "17f2ab35-dc66-48c1-96ba-8b07d74fdda7",
   "metadata": {},
   "outputs": [],
   "source": [
    "url = source+'manualcollect/OT001/lake-temperature/MC01/thermocouple/-/2023-01-01/2024-08-31'"
   ]
  },
  {
   "cell_type": "code",
   "execution_count": 7,
   "id": "75c38b07-cfb7-4773-b4ef-65a82ee3bc53",
   "metadata": {},
   "outputs": [
    {
     "name": "stdout",
     "output_type": "stream",
     "text": [
      "<Response [200]>\n"
     ]
    }
   ],
   "source": [
    "r = requests.get(url, headers={'Accept':'text/csv'})\n",
    "print (r)"
   ]
  },
  {
   "cell_type": "code",
   "execution_count": 8,
   "id": "30ed443b-f52a-40da-b9a7-2b2d840b33ee",
   "metadata": {},
   "outputs": [
    {
     "data": {
      "text/html": [
       "<div>\n",
       "<style scoped>\n",
       "    .dataframe tbody tr th:only-of-type {\n",
       "        vertical-align: middle;\n",
       "    }\n",
       "\n",
       "    .dataframe tbody tr th {\n",
       "        vertical-align: top;\n",
       "    }\n",
       "\n",
       "    .dataframe thead th {\n",
       "        text-align: right;\n",
       "    }\n",
       "</style>\n",
       "<table border=\"1\" class=\"dataframe\">\n",
       "  <thead>\n",
       "    <tr style=\"text-align: right;\">\n",
       "      <th></th>\n",
       "      <th>domain</th>\n",
       "      <th>station</th>\n",
       "      <th>name</th>\n",
       "      <th>sensorCode</th>\n",
       "      <th>method</th>\n",
       "      <th>aspect</th>\n",
       "      <th>value</th>\n",
       "      <th>valueUnit</th>\n",
       "      <th>error</th>\n",
       "      <th>errorUnit</th>\n",
       "      <th>qualityControl</th>\n",
       "    </tr>\n",
       "    <tr>\n",
       "      <th>timestamp</th>\n",
       "      <th></th>\n",
       "      <th></th>\n",
       "      <th></th>\n",
       "      <th></th>\n",
       "      <th></th>\n",
       "      <th></th>\n",
       "      <th></th>\n",
       "      <th></th>\n",
       "      <th></th>\n",
       "      <th></th>\n",
       "      <th></th>\n",
       "    </tr>\n",
       "  </thead>\n",
       "  <tbody>\n",
       "    <tr>\n",
       "      <th>2023-05-12 00:00:00+00:00</th>\n",
       "      <td>manualcollect</td>\n",
       "      <td>OT001</td>\n",
       "      <td>lake-temperature</td>\n",
       "      <td>MC01</td>\n",
       "      <td>thermocouple</td>\n",
       "      <td>nil</td>\n",
       "      <td>50.7</td>\n",
       "      <td>degC</td>\n",
       "      <td>2.2</td>\n",
       "      <td>degC</td>\n",
       "      <td>NaN</td>\n",
       "    </tr>\n",
       "    <tr>\n",
       "      <th>2024-03-20 00:00:00+00:00</th>\n",
       "      <td>manualcollect</td>\n",
       "      <td>OT001</td>\n",
       "      <td>lake-temperature</td>\n",
       "      <td>MC01</td>\n",
       "      <td>thermocouple</td>\n",
       "      <td>nil</td>\n",
       "      <td>60.3</td>\n",
       "      <td>degC</td>\n",
       "      <td>0.0</td>\n",
       "      <td>degC</td>\n",
       "      <td>NaN</td>\n",
       "    </tr>\n",
       "  </tbody>\n",
       "</table>\n",
       "</div>"
      ],
      "text/plain": [
       "                                  domain station              name sensorCode  \\\n",
       "timestamp                                                                       \n",
       "2023-05-12 00:00:00+00:00  manualcollect   OT001  lake-temperature       MC01   \n",
       "2024-03-20 00:00:00+00:00  manualcollect   OT001  lake-temperature       MC01   \n",
       "\n",
       "                                 method aspect  value valueUnit  error  \\\n",
       "timestamp                                                                \n",
       "2023-05-12 00:00:00+00:00  thermocouple    nil   50.7      degC    2.2   \n",
       "2024-03-20 00:00:00+00:00  thermocouple    nil   60.3      degC    0.0   \n",
       "\n",
       "                          errorUnit  qualityControl  \n",
       "timestamp                                            \n",
       "2023-05-12 00:00:00+00:00      degC             NaN  \n",
       "2024-03-20 00:00:00+00:00      degC             NaN  "
      ]
     },
     "execution_count": 8,
     "metadata": {},
     "output_type": "execute_result"
    }
   ],
   "source": [
    "mancol = pd.read_csv(StringIO(r.text),parse_dates=['timestamp'], date_format='ISO8601', index_col='timestamp')\n",
    "mancol.head()"
   ]
  },
  {
   "cell_type": "markdown",
   "id": "e57dbe6e-bb32-4237-99d0-01bc230cd07e",
   "metadata": {},
   "source": [
    "### Basic Data Plot\n",
    "By using the value column from our dataframe we are able to produce a basic graph of the lake temperature against time. The `envirosensor` data are plotted first, with the `manualcollect` data on top."
   ]
  },
  {
   "cell_type": "code",
   "execution_count": 9,
   "id": "20bba64b-b46e-47e4-80ac-d81f0fa9cd77",
   "metadata": {},
   "outputs": [
    {
     "data": {
      "text/plain": [
       "Text(0, 0.5, 'water temperature ($^o$C)')"
      ]
     },
     "execution_count": 9,
     "metadata": {},
     "output_type": "execute_result"
    },
    {
     "data": {
      "image/png": "[encoded data removed]",
      "text/plain": [
       "<Figure size 1500x500 with 1 Axes>"
      ]
     },
     "metadata": {},
     "output_type": "display_data"
    }
   ],
   "source": [
    "fig,ax = plt.subplots(figsize=(15,5))\n",
    "ax.plot(enviro.index, enviro['value'], color='lightblue', label='envirosensor')\n",
    "ax.plot(mancol.index, mancol['value'], color='blue', marker='o', markersize=3, linestyle='none', label='manualcollect')\n",
    "ax.legend(loc='lower left')\n",
    "ax.set_ylabel('water temperature ($^o$C)')"
   ]
  },
  {
   "cell_type": "markdown",
   "id": "c31737c1-1498-40d5-8b58-21664d9738ce",
   "metadata": {},
   "source": [
    "## &nbsp;3. Tilde data and data from a different source - Volcanic Alert Level data and sulphur dioxide emissions\n",
    "## Basic data retrieval and graphing"
   ]
  },
  {
   "cell_type": "markdown",
   "id": "81607c2c-ba28-4a2e-82ad-c3610791a819",
   "metadata": {},
   "source": [
    "### Tilde\n",
    "- domain = `manualcollect`\n",
    "\n",
    "The specific parameters are:\n",
    "  - station = `WI000`, the station code for Whalaari/White Island (the whole island, not a specific feature)\n",
    "  - name (type of data) = `plume-SO2-gasflux`\n",
    "  - sensorcode = `MC01`, code for the specific sensor number\n",
    "  - method (of data collection) = `flyspec`\n",
    "  - aspect = `-`, not set as not relevant for this query\n",
    "\n",
    "The resulting `key` specifies the data stream:\n",
    "  - `WI000/plume-SO2-gasflux/MC01/flyspec/-`\n",
    "\n",
    "Date range:\n",
    "  - startdate = `2024-01-01`\n",
    "  - enddate = `2024-09-15`\n",
    "\n",
    "Complete request\n",
    "- `manualcollect/WI000/plume-SO2-gasflux/MC01/flyspec/-/2024-01-01/2024-09-15`"
   ]
  },
  {
   "cell_type": "code",
   "execution_count": 10,
   "id": "165e86be-fd76-4b68-99d2-2a96327923fd",
   "metadata": {},
   "outputs": [],
   "source": [
    "url = source+'manualcollect/WI000/plume-SO2-gasflux/MC01/flyspec/-/2024-01-01/2024-09-15'"
   ]
  },
  {
   "cell_type": "code",
   "execution_count": 11,
   "id": "127a0aab-2adc-40a6-ad99-86e753e62715",
   "metadata": {},
   "outputs": [
    {
     "name": "stdout",
     "output_type": "stream",
     "text": [
      "<Response [200]>\n"
     ]
    }
   ],
   "source": [
    "r = requests.get(url, headers={'Accept':'text/csv'})\n",
    "print (r)"
   ]
  },
  {
   "cell_type": "code",
   "execution_count": 12,
   "id": "012c2799-d009-418e-84e6-282cd97c5da2",
   "metadata": {},
   "outputs": [
    {
     "data": {
      "text/html": [
       "<div>\n",
       "<style scoped>\n",
       "    .dataframe tbody tr th:only-of-type {\n",
       "        vertical-align: middle;\n",
       "    }\n",
       "\n",
       "    .dataframe tbody tr th {\n",
       "        vertical-align: top;\n",
       "    }\n",
       "\n",
       "    .dataframe thead th {\n",
       "        text-align: right;\n",
       "    }\n",
       "</style>\n",
       "<table border=\"1\" class=\"dataframe\">\n",
       "  <thead>\n",
       "    <tr style=\"text-align: right;\">\n",
       "      <th></th>\n",
       "      <th>domain</th>\n",
       "      <th>station</th>\n",
       "      <th>name</th>\n",
       "      <th>sensorCode</th>\n",
       "      <th>method</th>\n",
       "      <th>aspect</th>\n",
       "      <th>value</th>\n",
       "      <th>valueUnit</th>\n",
       "      <th>error</th>\n",
       "      <th>errorUnit</th>\n",
       "      <th>qualityControl</th>\n",
       "    </tr>\n",
       "    <tr>\n",
       "      <th>timestamp</th>\n",
       "      <th></th>\n",
       "      <th></th>\n",
       "      <th></th>\n",
       "      <th></th>\n",
       "      <th></th>\n",
       "      <th></th>\n",
       "      <th></th>\n",
       "      <th></th>\n",
       "      <th></th>\n",
       "      <th></th>\n",
       "      <th></th>\n",
       "    </tr>\n",
       "  </thead>\n",
       "  <tbody>\n",
       "    <tr>\n",
       "      <th>2024-01-23 23:30:00+00:00</th>\n",
       "      <td>manualcollect</td>\n",
       "      <td>WI000</td>\n",
       "      <td>plume-SO2-gasflux</td>\n",
       "      <td>MC01</td>\n",
       "      <td>flyspec</td>\n",
       "      <td>nil</td>\n",
       "      <td>4.0</td>\n",
       "      <td>kg/s</td>\n",
       "      <td>0.04</td>\n",
       "      <td>kg/s</td>\n",
       "      <td>NaN</td>\n",
       "    </tr>\n",
       "    <tr>\n",
       "      <th>2024-03-26 00:00:00+00:00</th>\n",
       "      <td>manualcollect</td>\n",
       "      <td>WI000</td>\n",
       "      <td>plume-SO2-gasflux</td>\n",
       "      <td>MC01</td>\n",
       "      <td>flyspec</td>\n",
       "      <td>nil</td>\n",
       "      <td>3.2</td>\n",
       "      <td>kg/s</td>\n",
       "      <td>0.23</td>\n",
       "      <td>kg/s</td>\n",
       "      <td>NaN</td>\n",
       "    </tr>\n",
       "    <tr>\n",
       "      <th>2024-03-26 12:00:00+00:00</th>\n",
       "      <td>manualcollect</td>\n",
       "      <td>WI000</td>\n",
       "      <td>plume-SO2-gasflux</td>\n",
       "      <td>MC01</td>\n",
       "      <td>flyspec</td>\n",
       "      <td>nil</td>\n",
       "      <td>3.2</td>\n",
       "      <td>kg/s</td>\n",
       "      <td>0.23</td>\n",
       "      <td>kg/s</td>\n",
       "      <td>NaN</td>\n",
       "    </tr>\n",
       "    <tr>\n",
       "      <th>2024-04-30 11:00:00+00:00</th>\n",
       "      <td>manualcollect</td>\n",
       "      <td>WI000</td>\n",
       "      <td>plume-SO2-gasflux</td>\n",
       "      <td>MC01</td>\n",
       "      <td>flyspec</td>\n",
       "      <td>nil</td>\n",
       "      <td>3.5</td>\n",
       "      <td>kg/s</td>\n",
       "      <td>0.34</td>\n",
       "      <td>kg/s</td>\n",
       "      <td>NaN</td>\n",
       "    </tr>\n",
       "    <tr>\n",
       "      <th>2024-05-26 23:30:00+00:00</th>\n",
       "      <td>manualcollect</td>\n",
       "      <td>WI000</td>\n",
       "      <td>plume-SO2-gasflux</td>\n",
       "      <td>MC01</td>\n",
       "      <td>flyspec</td>\n",
       "      <td>nil</td>\n",
       "      <td>8.6</td>\n",
       "      <td>kg/s</td>\n",
       "      <td>1.83</td>\n",
       "      <td>kg/s</td>\n",
       "      <td>NaN</td>\n",
       "    </tr>\n",
       "  </tbody>\n",
       "</table>\n",
       "</div>"
      ],
      "text/plain": [
       "                                  domain station               name  \\\n",
       "timestamp                                                             \n",
       "2024-01-23 23:30:00+00:00  manualcollect   WI000  plume-SO2-gasflux   \n",
       "2024-03-26 00:00:00+00:00  manualcollect   WI000  plume-SO2-gasflux   \n",
       "2024-03-26 12:00:00+00:00  manualcollect   WI000  plume-SO2-gasflux   \n",
       "2024-04-30 11:00:00+00:00  manualcollect   WI000  plume-SO2-gasflux   \n",
       "2024-05-26 23:30:00+00:00  manualcollect   WI000  plume-SO2-gasflux   \n",
       "\n",
       "                          sensorCode   method aspect  value valueUnit  error  \\\n",
       "timestamp                                                                      \n",
       "2024-01-23 23:30:00+00:00       MC01  flyspec    nil    4.0      kg/s   0.04   \n",
       "2024-03-26 00:00:00+00:00       MC01  flyspec    nil    3.2      kg/s   0.23   \n",
       "2024-03-26 12:00:00+00:00       MC01  flyspec    nil    3.2      kg/s   0.23   \n",
       "2024-04-30 11:00:00+00:00       MC01  flyspec    nil    3.5      kg/s   0.34   \n",
       "2024-05-26 23:30:00+00:00       MC01  flyspec    nil    8.6      kg/s   1.83   \n",
       "\n",
       "                          errorUnit  qualityControl  \n",
       "timestamp                                            \n",
       "2024-01-23 23:30:00+00:00      kg/s             NaN  \n",
       "2024-03-26 00:00:00+00:00      kg/s             NaN  \n",
       "2024-03-26 12:00:00+00:00      kg/s             NaN  \n",
       "2024-04-30 11:00:00+00:00      kg/s             NaN  \n",
       "2024-05-26 23:30:00+00:00      kg/s             NaN  "
      ]
     },
     "execution_count": 12,
     "metadata": {},
     "output_type": "execute_result"
    }
   ],
   "source": [
    "df = pd.read_csv(StringIO(r.text),parse_dates=['timestamp'], date_format='ISO8601', index_col='timestamp')\n",
    "df.head()"
   ]
  },
  {
   "cell_type": "markdown",
   "id": "098f3c30-7afd-46e8-ab15-156f8bf7d77e",
   "metadata": {},
   "source": [
    "### Volcanic Alert Level (VAL)\n",
    "\n",
    "[VAL Data](https://doi.org/10.21420/we5s-1n52) are available from a [GitHub repository](https://github.com/GeoNet/data/tree/main/volcanic-alert-levels)"
   ]
  },
  {
   "cell_type": "code",
   "execution_count": 13,
   "id": "8e1d0fd2-b509-46e7-8d86-bd211adbd8bc",
   "metadata": {},
   "outputs": [],
   "source": [
    "url = 'https://raw.githubusercontent.com/GeoNet/data/main/volcanic-alert-levels/'"
   ]
  },
  {
   "cell_type": "code",
   "execution_count": 14,
   "id": "486dbe82-269a-4679-bd50-ca2b8d6a9806",
   "metadata": {},
   "outputs": [],
   "source": [
    "valfile = url+'VAL_WhakaariWhiteIsland.csv'\n",
    "val = pd.read_csv(valfile)"
   ]
  },
  {
   "cell_type": "code",
   "execution_count": 15,
   "id": "fa9ea5bc-ad42-4e90-95dc-311f7621115e",
   "metadata": {},
   "outputs": [
    {
     "data": {
      "text/html": [
       "<div>\n",
       "<style scoped>\n",
       "    .dataframe tbody tr th:only-of-type {\n",
       "        vertical-align: middle;\n",
       "    }\n",
       "\n",
       "    .dataframe tbody tr th {\n",
       "        vertical-align: top;\n",
       "    }\n",
       "\n",
       "    .dataframe thead th {\n",
       "        text-align: right;\n",
       "    }\n",
       "</style>\n",
       "<table border=\"1\" class=\"dataframe\">\n",
       "  <thead>\n",
       "    <tr style=\"text-align: right;\">\n",
       "      <th></th>\n",
       "      <th>PeriodStart UTC</th>\n",
       "      <th>PeriodEnd UTC</th>\n",
       "      <th>VAL</th>\n",
       "      <th>VAL System Version</th>\n",
       "      <th>Description</th>\n",
       "      <th>PeriodStart LocalTime</th>\n",
       "      <th>PeriodEnd LocalTime</th>\n",
       "    </tr>\n",
       "  </thead>\n",
       "  <tbody>\n",
       "    <tr>\n",
       "      <th>37</th>\n",
       "      <td>2024-05-23T22:45:00Z</td>\n",
       "      <td>2024-05-24T04:59:59Z</td>\n",
       "      <td>3</td>\n",
       "      <td>3</td>\n",
       "      <td>Minor volcanic eruption</td>\n",
       "      <td>2024-05-24 10:45:00 NZST</td>\n",
       "      <td>2024-05-24 16:59:59 NZST</td>\n",
       "    </tr>\n",
       "    <tr>\n",
       "      <th>38</th>\n",
       "      <td>2024-05-24T05:00:00Z</td>\n",
       "      <td>2024-05-24T23:44:59Z</td>\n",
       "      <td>2</td>\n",
       "      <td>3</td>\n",
       "      <td>Moderate to heightened volcanic unrest</td>\n",
       "      <td>2024-05-24 17:00:00 NZST</td>\n",
       "      <td>2024-05-25 11:44:59 NZST</td>\n",
       "    </tr>\n",
       "    <tr>\n",
       "      <th>39</th>\n",
       "      <td>2024-05-24T23:45:00Z</td>\n",
       "      <td>2024-05-29T02:59:59Z</td>\n",
       "      <td>3</td>\n",
       "      <td>3</td>\n",
       "      <td>Minor volcanic eruption</td>\n",
       "      <td>2024-05-25 11:45:00 NZST</td>\n",
       "      <td>2024-05-29 14:59:59 NZST</td>\n",
       "    </tr>\n",
       "    <tr>\n",
       "      <th>40</th>\n",
       "      <td>2024-05-29T03:00:00Z</td>\n",
       "      <td>2024-08-09T04:59:59Z</td>\n",
       "      <td>2</td>\n",
       "      <td>3</td>\n",
       "      <td>Moderate to heightened volcanic unrest</td>\n",
       "      <td>2024-05-29 15:00:00 NZST</td>\n",
       "      <td>2024-08-09 16:59:59 NZST</td>\n",
       "    </tr>\n",
       "    <tr>\n",
       "      <th>41</th>\n",
       "      <td>2024-08-09T05:00:00Z</td>\n",
       "      <td>9999-01-01T00:00:00Z</td>\n",
       "      <td>3</td>\n",
       "      <td>3</td>\n",
       "      <td>Minor volcanic eruption</td>\n",
       "      <td>2024-08-09T17:00:00 NZST</td>\n",
       "      <td>9999-01-01 00:00:00 NZST</td>\n",
       "    </tr>\n",
       "  </tbody>\n",
       "</table>\n",
       "</div>"
      ],
      "text/plain": [
       "         PeriodStart UTC         PeriodEnd UTC  VAL  VAL System Version  \\\n",
       "37  2024-05-23T22:45:00Z  2024-05-24T04:59:59Z    3                   3   \n",
       "38  2024-05-24T05:00:00Z  2024-05-24T23:44:59Z    2                   3   \n",
       "39  2024-05-24T23:45:00Z  2024-05-29T02:59:59Z    3                   3   \n",
       "40  2024-05-29T03:00:00Z  2024-08-09T04:59:59Z    2                   3   \n",
       "41  2024-08-09T05:00:00Z  9999-01-01T00:00:00Z    3                   3   \n",
       "\n",
       "                               Description     PeriodStart LocalTime  \\\n",
       "37                 Minor volcanic eruption  2024-05-24 10:45:00 NZST   \n",
       "38  Moderate to heightened volcanic unrest  2024-05-24 17:00:00 NZST   \n",
       "39                 Minor volcanic eruption  2024-05-25 11:45:00 NZST   \n",
       "40  Moderate to heightened volcanic unrest  2024-05-29 15:00:00 NZST   \n",
       "41                 Minor volcanic eruption  2024-08-09T17:00:00 NZST   \n",
       "\n",
       "         PeriodEnd LocalTime  \n",
       "37  2024-05-24 16:59:59 NZST  \n",
       "38  2024-05-25 11:44:59 NZST  \n",
       "39  2024-05-29 14:59:59 NZST  \n",
       "40  2024-08-09 16:59:59 NZST  \n",
       "41  9999-01-01 00:00:00 NZST  "
      ]
     },
     "execution_count": 15,
     "metadata": {},
     "output_type": "execute_result"
    }
   ],
   "source": [
    "val.tail()"
   ]
  },
  {
   "cell_type": "markdown",
   "id": "0fe1fce3-c6b4-4aec-9bfa-f6621a17e6c8",
   "metadata": {},
   "source": [
    "#### Make VAL period end time suitable for datetime\n",
    "\n",
    "The VAL data use `9999-01-01T00:00:00Z` as the end time of the current VAL, as is standard GeoNet practice. But `9999-01-01T00:00:00Z` cannot be converted to a python datetime value, so we replace it with the current date/time. This applies to both UTC and LocalTime so users can use either time base."
   ]
  },
  {
   "cell_type": "code",
   "execution_count": 16,
   "id": "eccbab7b-e2b4-4ee4-8f12-b9c5acdc55dc",
   "metadata": {},
   "outputs": [],
   "source": [
    "nowutc = dt.datetime.now(dt.timezone.utc).strftime('%Y-%m-%dT%H:%M:%SZ')\n",
    "nownzst = dt.datetime.now().strftime('%Y-%m-%d %H:%M:%S NZST')\n",
    "val.replace(['9999-01-01T00:00:00Z', '9999-01-01 00:00:00 NZST'], [nowutc, nownzst], inplace=True)\n",
    "val[['PeriodStart UTC','PeriodEnd UTC']] = val[['PeriodStart UTC','PeriodEnd UTC']].apply(lambda x: pd.to_datetime(x,format='ISO8601'))"
   ]
  },
  {
   "cell_type": "code",
   "execution_count": 17,
   "id": "f18047cf-8c22-4aea-8bbc-55c9a73c2702",
   "metadata": {},
   "outputs": [
    {
     "data": {
      "text/html": [
       "<div>\n",
       "<style scoped>\n",
       "    .dataframe tbody tr th:only-of-type {\n",
       "        vertical-align: middle;\n",
       "    }\n",
       "\n",
       "    .dataframe tbody tr th {\n",
       "        vertical-align: top;\n",
       "    }\n",
       "\n",
       "    .dataframe thead th {\n",
       "        text-align: right;\n",
       "    }\n",
       "</style>\n",
       "<table border=\"1\" class=\"dataframe\">\n",
       "  <thead>\n",
       "    <tr style=\"text-align: right;\">\n",
       "      <th></th>\n",
       "      <th>PeriodStart UTC</th>\n",
       "      <th>PeriodEnd UTC</th>\n",
       "      <th>VAL</th>\n",
       "      <th>VAL System Version</th>\n",
       "      <th>Description</th>\n",
       "      <th>PeriodStart LocalTime</th>\n",
       "      <th>PeriodEnd LocalTime</th>\n",
       "    </tr>\n",
       "  </thead>\n",
       "  <tbody>\n",
       "    <tr>\n",
       "      <th>37</th>\n",
       "      <td>2024-05-23 22:45:00+00:00</td>\n",
       "      <td>2024-05-24 04:59:59+00:00</td>\n",
       "      <td>3</td>\n",
       "      <td>3</td>\n",
       "      <td>Minor volcanic eruption</td>\n",
       "      <td>2024-05-24 10:45:00 NZST</td>\n",
       "      <td>2024-05-24 16:59:59 NZST</td>\n",
       "    </tr>\n",
       "    <tr>\n",
       "      <th>38</th>\n",
       "      <td>2024-05-24 05:00:00+00:00</td>\n",
       "      <td>2024-05-24 23:44:59+00:00</td>\n",
       "      <td>2</td>\n",
       "      <td>3</td>\n",
       "      <td>Moderate to heightened volcanic unrest</td>\n",
       "      <td>2024-05-24 17:00:00 NZST</td>\n",
       "      <td>2024-05-25 11:44:59 NZST</td>\n",
       "    </tr>\n",
       "    <tr>\n",
       "      <th>39</th>\n",
       "      <td>2024-05-24 23:45:00+00:00</td>\n",
       "      <td>2024-05-29 02:59:59+00:00</td>\n",
       "      <td>3</td>\n",
       "      <td>3</td>\n",
       "      <td>Minor volcanic eruption</td>\n",
       "      <td>2024-05-25 11:45:00 NZST</td>\n",
       "      <td>2024-05-29 14:59:59 NZST</td>\n",
       "    </tr>\n",
       "    <tr>\n",
       "      <th>40</th>\n",
       "      <td>2024-05-29 03:00:00+00:00</td>\n",
       "      <td>2024-08-09 04:59:59+00:00</td>\n",
       "      <td>2</td>\n",
       "      <td>3</td>\n",
       "      <td>Moderate to heightened volcanic unrest</td>\n",
       "      <td>2024-05-29 15:00:00 NZST</td>\n",
       "      <td>2024-08-09 16:59:59 NZST</td>\n",
       "    </tr>\n",
       "    <tr>\n",
       "      <th>41</th>\n",
       "      <td>2024-08-09 05:00:00+00:00</td>\n",
       "      <td>2024-12-10 03:03:05+00:00</td>\n",
       "      <td>3</td>\n",
       "      <td>3</td>\n",
       "      <td>Minor volcanic eruption</td>\n",
       "      <td>2024-08-09T17:00:00 NZST</td>\n",
       "      <td>2024-12-10 16:03:05 NZST</td>\n",
       "    </tr>\n",
       "  </tbody>\n",
       "</table>\n",
       "</div>"
      ],
      "text/plain": [
       "             PeriodStart UTC             PeriodEnd UTC  VAL  \\\n",
       "37 2024-05-23 22:45:00+00:00 2024-05-24 04:59:59+00:00    3   \n",
       "38 2024-05-24 05:00:00+00:00 2024-05-24 23:44:59+00:00    2   \n",
       "39 2024-05-24 23:45:00+00:00 2024-05-29 02:59:59+00:00    3   \n",
       "40 2024-05-29 03:00:00+00:00 2024-08-09 04:59:59+00:00    2   \n",
       "41 2024-08-09 05:00:00+00:00 2024-12-10 03:03:05+00:00    3   \n",
       "\n",
       "    VAL System Version                             Description  \\\n",
       "37                   3                 Minor volcanic eruption   \n",
       "38                   3  Moderate to heightened volcanic unrest   \n",
       "39                   3                 Minor volcanic eruption   \n",
       "40                   3  Moderate to heightened volcanic unrest   \n",
       "41                   3                 Minor volcanic eruption   \n",
       "\n",
       "       PeriodStart LocalTime       PeriodEnd LocalTime  \n",
       "37  2024-05-24 10:45:00 NZST  2024-05-24 16:59:59 NZST  \n",
       "38  2024-05-24 17:00:00 NZST  2024-05-25 11:44:59 NZST  \n",
       "39  2024-05-25 11:45:00 NZST  2024-05-29 14:59:59 NZST  \n",
       "40  2024-05-29 15:00:00 NZST  2024-08-09 16:59:59 NZST  \n",
       "41  2024-08-09T17:00:00 NZST  2024-12-10 16:03:05 NZST  "
      ]
     },
     "execution_count": 17,
     "metadata": {},
     "output_type": "execute_result"
    }
   ],
   "source": [
    "val.tail()"
   ]
  },
  {
   "cell_type": "markdown",
   "id": "2ae3638e-4a45-4c32-af2c-b88a3ac727f0",
   "metadata": {},
   "source": [
    "#### Select 2024 VAL data to match data from Tilde\n",
    "\n",
    "Select on VAL data where end data is after 2024-01-01."
   ]
  },
  {
   "cell_type": "code",
   "execution_count": 18,
   "id": "f25508f1-a9c7-47a2-aa63-67197207b8ce",
   "metadata": {},
   "outputs": [],
   "source": [
    "start = dt.datetime(2024,1,1).replace(tzinfo=dt.timezone.utc)\n",
    "val24 = val[val['PeriodEnd UTC']>start]"
   ]
  },
  {
   "cell_type": "code",
   "execution_count": 19,
   "id": "68b37006-c3e9-4805-9cab-cd8ddc4a8db1",
   "metadata": {},
   "outputs": [
    {
     "data": {
      "text/html": [
       "<div>\n",
       "<style scoped>\n",
       "    .dataframe tbody tr th:only-of-type {\n",
       "        vertical-align: middle;\n",
       "    }\n",
       "\n",
       "    .dataframe tbody tr th {\n",
       "        vertical-align: top;\n",
       "    }\n",
       "\n",
       "    .dataframe thead th {\n",
       "        text-align: right;\n",
       "    }\n",
       "</style>\n",
       "<table border=\"1\" class=\"dataframe\">\n",
       "  <thead>\n",
       "    <tr style=\"text-align: right;\">\n",
       "      <th></th>\n",
       "      <th>PeriodStart UTC</th>\n",
       "      <th>PeriodEnd UTC</th>\n",
       "      <th>VAL</th>\n",
       "      <th>VAL System Version</th>\n",
       "      <th>Description</th>\n",
       "      <th>PeriodStart LocalTime</th>\n",
       "      <th>PeriodEnd LocalTime</th>\n",
       "    </tr>\n",
       "  </thead>\n",
       "  <tbody>\n",
       "    <tr>\n",
       "      <th>36</th>\n",
       "      <td>2022-09-07 02:00:00+00:00</td>\n",
       "      <td>2024-05-23 22:44:59+00:00</td>\n",
       "      <td>2</td>\n",
       "      <td>3</td>\n",
       "      <td>Moderate to heightened volcanic unrest</td>\n",
       "      <td>2022-09-07 14:00:00 NZST</td>\n",
       "      <td>2024-05-24 10:44:59 NZST</td>\n",
       "    </tr>\n",
       "    <tr>\n",
       "      <th>37</th>\n",
       "      <td>2024-05-23 22:45:00+00:00</td>\n",
       "      <td>2024-05-24 04:59:59+00:00</td>\n",
       "      <td>3</td>\n",
       "      <td>3</td>\n",
       "      <td>Minor volcanic eruption</td>\n",
       "      <td>2024-05-24 10:45:00 NZST</td>\n",
       "      <td>2024-05-24 16:59:59 NZST</td>\n",
       "    </tr>\n",
       "    <tr>\n",
       "      <th>38</th>\n",
       "      <td>2024-05-24 05:00:00+00:00</td>\n",
       "      <td>2024-05-24 23:44:59+00:00</td>\n",
       "      <td>2</td>\n",
       "      <td>3</td>\n",
       "      <td>Moderate to heightened volcanic unrest</td>\n",
       "      <td>2024-05-24 17:00:00 NZST</td>\n",
       "      <td>2024-05-25 11:44:59 NZST</td>\n",
       "    </tr>\n",
       "    <tr>\n",
       "      <th>39</th>\n",
       "      <td>2024-05-24 23:45:00+00:00</td>\n",
       "      <td>2024-05-29 02:59:59+00:00</td>\n",
       "      <td>3</td>\n",
       "      <td>3</td>\n",
       "      <td>Minor volcanic eruption</td>\n",
       "      <td>2024-05-25 11:45:00 NZST</td>\n",
       "      <td>2024-05-29 14:59:59 NZST</td>\n",
       "    </tr>\n",
       "    <tr>\n",
       "      <th>40</th>\n",
       "      <td>2024-05-29 03:00:00+00:00</td>\n",
       "      <td>2024-08-09 04:59:59+00:00</td>\n",
       "      <td>2</td>\n",
       "      <td>3</td>\n",
       "      <td>Moderate to heightened volcanic unrest</td>\n",
       "      <td>2024-05-29 15:00:00 NZST</td>\n",
       "      <td>2024-08-09 16:59:59 NZST</td>\n",
       "    </tr>\n",
       "    <tr>\n",
       "      <th>41</th>\n",
       "      <td>2024-08-09 05:00:00+00:00</td>\n",
       "      <td>2024-12-10 03:03:05+00:00</td>\n",
       "      <td>3</td>\n",
       "      <td>3</td>\n",
       "      <td>Minor volcanic eruption</td>\n",
       "      <td>2024-08-09T17:00:00 NZST</td>\n",
       "      <td>2024-12-10 16:03:05 NZST</td>\n",
       "    </tr>\n",
       "  </tbody>\n",
       "</table>\n",
       "</div>"
      ],
      "text/plain": [
       "             PeriodStart UTC             PeriodEnd UTC  VAL  \\\n",
       "36 2022-09-07 02:00:00+00:00 2024-05-23 22:44:59+00:00    2   \n",
       "37 2024-05-23 22:45:00+00:00 2024-05-24 04:59:59+00:00    3   \n",
       "38 2024-05-24 05:00:00+00:00 2024-05-24 23:44:59+00:00    2   \n",
       "39 2024-05-24 23:45:00+00:00 2024-05-29 02:59:59+00:00    3   \n",
       "40 2024-05-29 03:00:00+00:00 2024-08-09 04:59:59+00:00    2   \n",
       "41 2024-08-09 05:00:00+00:00 2024-12-10 03:03:05+00:00    3   \n",
       "\n",
       "    VAL System Version                             Description  \\\n",
       "36                   3  Moderate to heightened volcanic unrest   \n",
       "37                   3                 Minor volcanic eruption   \n",
       "38                   3  Moderate to heightened volcanic unrest   \n",
       "39                   3                 Minor volcanic eruption   \n",
       "40                   3  Moderate to heightened volcanic unrest   \n",
       "41                   3                 Minor volcanic eruption   \n",
       "\n",
       "       PeriodStart LocalTime       PeriodEnd LocalTime  \n",
       "36  2022-09-07 14:00:00 NZST  2024-05-24 10:44:59 NZST  \n",
       "37  2024-05-24 10:45:00 NZST  2024-05-24 16:59:59 NZST  \n",
       "38  2024-05-24 17:00:00 NZST  2024-05-25 11:44:59 NZST  \n",
       "39  2024-05-25 11:45:00 NZST  2024-05-29 14:59:59 NZST  \n",
       "40  2024-05-29 15:00:00 NZST  2024-08-09 16:59:59 NZST  \n",
       "41  2024-08-09T17:00:00 NZST  2024-12-10 16:03:05 NZST  "
      ]
     },
     "execution_count": 19,
     "metadata": {},
     "output_type": "execute_result"
    }
   ],
   "source": [
    "val24"
   ]
  },
  {
   "cell_type": "markdown",
   "id": "e50c805e-2232-4602-a559-dd9d5c73a0bc",
   "metadata": {},
   "source": [
    "### Basic Data Plot\n",
    "The data values are completely different so plot on two separate axes. VAL is plotted as a \"steps\".\n",
    "\n",
    "As VAL is an interval, we have to plot `PeriodStart UTC` and `PeriodEnd UTC` to get the complete data, but with different steps."
   ]
  },
  {
   "cell_type": "code",
   "execution_count": 20,
   "id": "26f9b443-d508-4d6d-a711-3c6d06fa12a3",
   "metadata": {},
   "outputs": [
    {
     "data": {
      "text/plain": [
       "Text(0, 0.5, 'Flyspec SO$_2$ flux (kg/s)')"
      ]
     },
     "execution_count": 20,
     "metadata": {},
     "output_type": "execute_result"
    },
    {
     "data": {
      "image/png": "[encoded data removed]",
      "text/plain": [
       "<Figure size 1500x600 with 2 Axes>"
      ]
     },
     "metadata": {},
     "output_type": "display_data"
    }
   ],
   "source": [
    "fig,(axv,axf) = plt.subplots(2,1,figsize=(15,6), sharex=True)\n",
    "\n",
    "#mark transition between unrest and eruptive activity in VAL schema\n",
    "axv.axhline(2.5, linestyle='--', color='red', alpha=0.5)\n",
    "axv.text(0.02, 0.48, 'unrest', fontsize=12, color='grey', va='top', transform=axv.transAxes)\n",
    "axv.text(0.02, 0.52, 'eruptive activity', fontsize=12, color='grey', va='bottom', transform=axv.transAxes)\n",
    "\n",
    "axv.step(val24['PeriodStart UTC'],val24['VAL'], where='post', color='lightblue')\n",
    "axv.step(val24['PeriodEnd UTC'],val24['VAL'], where='pre', color='lightblue')\n",
    "axv.set_xlim(left=start)\n",
    "axv.set_ylim(0,5)\n",
    "axv.set_yticks(list(range(0,6)))\n",
    "axv.set_ylabel('VAL')\n",
    "\n",
    "\n",
    "axf.plot(df.index, df['value'], color='lightblue')\n",
    "axf.plot(df.index, df['value'], marker='o', markersize=3, color='blue', linestyle='none')\n",
    "axf.set_ylabel('Flyspec SO$_2$ flux (kg/s)')"
   ]
  },
  {
   "cell_type": "markdown",
   "id": "dbcda58c-8932-4444-a780-969c3121ffa9",
   "metadata": {},
   "source": [
    "## &nbsp;4. Tilde data and data from a different source - Ruapehu crater lake temperature data and historic volcanic activity\n",
    "## Basic data retrieval and graphing"
   ]
  },
  {
   "cell_type": "markdown",
   "id": "f4fb8fa8-7eef-440d-a1b2-51540a579e97",
   "metadata": {},
   "source": [
    "### Tilde\n",
    "- domain = `manualcollect`\n",
    "\n",
    "The specific parameters are:\n",
    "  - station = `RU001`, the station code for Ruapehu Crater Lake\n",
    "  - name (type of data) = `lake-temperature`\n",
    "  - sensorcode = `MC01`, code for the specific sensor number\n",
    "  - method (of data collection) = `-`, all methods\n",
    "  - aspect = `-`, not set as not relevant for this query\n",
    "\n",
    "The resulting `key` specifies the data stream:\n",
    "  - `RU001/lake-temperature/MC01/-/-`\n",
    "\n",
    "Date range:\n",
    "- dates = `1950-01-01/2010-01-01`\n",
    "  - startdate = `1950-01-01`\n",
    "  - enddate = `2010-01-01`\n",
    "\n",
    "Complete request\n",
    "- `manualcollect/RU001/lake-temperature/MC01/-/-/1950-01-01/2010-01-01`"
   ]
  },
  {
   "cell_type": "code",
   "execution_count": 21,
   "id": "6073cfb0-788b-4ff6-a2b8-e67056991fe2",
   "metadata": {},
   "outputs": [],
   "source": [
    "url = source+'manualcollect/RU001/lake-temperature/MC01/-/-/1950-01-01/2010-01-01'"
   ]
  },
  {
   "cell_type": "code",
   "execution_count": 22,
   "id": "1ac1a0ff-c6c6-4d8c-869c-763300a7e948",
   "metadata": {},
   "outputs": [
    {
     "name": "stdout",
     "output_type": "stream",
     "text": [
      "<Response [200]>\n"
     ]
    }
   ],
   "source": [
    "r = requests.get(url, headers={'Accept':'text/csv'})\n",
    "print (r)"
   ]
  },
  {
   "cell_type": "code",
   "execution_count": 23,
   "id": "1065ea7b-e8de-4bc0-8baf-f005832fe612",
   "metadata": {},
   "outputs": [
    {
     "data": {
      "text/html": [
       "<div>\n",
       "<style scoped>\n",
       "    .dataframe tbody tr th:only-of-type {\n",
       "        vertical-align: middle;\n",
       "    }\n",
       "\n",
       "    .dataframe tbody tr th {\n",
       "        vertical-align: top;\n",
       "    }\n",
       "\n",
       "    .dataframe thead th {\n",
       "        text-align: right;\n",
       "    }\n",
       "</style>\n",
       "<table border=\"1\" class=\"dataframe\">\n",
       "  <thead>\n",
       "    <tr style=\"text-align: right;\">\n",
       "      <th></th>\n",
       "      <th>domain</th>\n",
       "      <th>station</th>\n",
       "      <th>name</th>\n",
       "      <th>sensorCode</th>\n",
       "      <th>method</th>\n",
       "      <th>aspect</th>\n",
       "      <th>value</th>\n",
       "      <th>valueUnit</th>\n",
       "      <th>error</th>\n",
       "      <th>errorUnit</th>\n",
       "      <th>qualityControl</th>\n",
       "    </tr>\n",
       "    <tr>\n",
       "      <th>timestamp</th>\n",
       "      <th></th>\n",
       "      <th></th>\n",
       "      <th></th>\n",
       "      <th></th>\n",
       "      <th></th>\n",
       "      <th></th>\n",
       "      <th></th>\n",
       "      <th></th>\n",
       "      <th></th>\n",
       "      <th></th>\n",
       "      <th></th>\n",
       "    </tr>\n",
       "  </thead>\n",
       "  <tbody>\n",
       "    <tr>\n",
       "      <th>1992-01-03 00:00:00+00:00</th>\n",
       "      <td>manualcollect</td>\n",
       "      <td>RU001</td>\n",
       "      <td>lake-temperature</td>\n",
       "      <td>MC01</td>\n",
       "      <td>thermocouple</td>\n",
       "      <td>nil</td>\n",
       "      <td>22.1</td>\n",
       "      <td>degC</td>\n",
       "      <td>0.0</td>\n",
       "      <td>degC</td>\n",
       "      <td>NaN</td>\n",
       "    </tr>\n",
       "    <tr>\n",
       "      <th>1992-02-11 00:00:00+00:00</th>\n",
       "      <td>manualcollect</td>\n",
       "      <td>RU001</td>\n",
       "      <td>lake-temperature</td>\n",
       "      <td>MC01</td>\n",
       "      <td>thermocouple</td>\n",
       "      <td>nil</td>\n",
       "      <td>39.0</td>\n",
       "      <td>degC</td>\n",
       "      <td>0.0</td>\n",
       "      <td>degC</td>\n",
       "      <td>NaN</td>\n",
       "    </tr>\n",
       "    <tr>\n",
       "      <th>1992-03-24 00:00:00+00:00</th>\n",
       "      <td>manualcollect</td>\n",
       "      <td>RU001</td>\n",
       "      <td>lake-temperature</td>\n",
       "      <td>MC01</td>\n",
       "      <td>thermocouple</td>\n",
       "      <td>nil</td>\n",
       "      <td>31.5</td>\n",
       "      <td>degC</td>\n",
       "      <td>0.0</td>\n",
       "      <td>degC</td>\n",
       "      <td>NaN</td>\n",
       "    </tr>\n",
       "    <tr>\n",
       "      <th>1992-05-06 00:00:00+00:00</th>\n",
       "      <td>manualcollect</td>\n",
       "      <td>RU001</td>\n",
       "      <td>lake-temperature</td>\n",
       "      <td>MC01</td>\n",
       "      <td>thermocouple</td>\n",
       "      <td>nil</td>\n",
       "      <td>34.5</td>\n",
       "      <td>degC</td>\n",
       "      <td>0.0</td>\n",
       "      <td>degC</td>\n",
       "      <td>NaN</td>\n",
       "    </tr>\n",
       "    <tr>\n",
       "      <th>1992-07-17 00:00:00+00:00</th>\n",
       "      <td>manualcollect</td>\n",
       "      <td>RU001</td>\n",
       "      <td>lake-temperature</td>\n",
       "      <td>MC01</td>\n",
       "      <td>thermocouple</td>\n",
       "      <td>nil</td>\n",
       "      <td>17.0</td>\n",
       "      <td>degC</td>\n",
       "      <td>0.0</td>\n",
       "      <td>degC</td>\n",
       "      <td>NaN</td>\n",
       "    </tr>\n",
       "  </tbody>\n",
       "</table>\n",
       "</div>"
      ],
      "text/plain": [
       "                                  domain station              name sensorCode  \\\n",
       "timestamp                                                                       \n",
       "1992-01-03 00:00:00+00:00  manualcollect   RU001  lake-temperature       MC01   \n",
       "1992-02-11 00:00:00+00:00  manualcollect   RU001  lake-temperature       MC01   \n",
       "1992-03-24 00:00:00+00:00  manualcollect   RU001  lake-temperature       MC01   \n",
       "1992-05-06 00:00:00+00:00  manualcollect   RU001  lake-temperature       MC01   \n",
       "1992-07-17 00:00:00+00:00  manualcollect   RU001  lake-temperature       MC01   \n",
       "\n",
       "                                 method aspect  value valueUnit  error  \\\n",
       "timestamp                                                                \n",
       "1992-01-03 00:00:00+00:00  thermocouple    nil   22.1      degC    0.0   \n",
       "1992-02-11 00:00:00+00:00  thermocouple    nil   39.0      degC    0.0   \n",
       "1992-03-24 00:00:00+00:00  thermocouple    nil   31.5      degC    0.0   \n",
       "1992-05-06 00:00:00+00:00  thermocouple    nil   34.5      degC    0.0   \n",
       "1992-07-17 00:00:00+00:00  thermocouple    nil   17.0      degC    0.0   \n",
       "\n",
       "                          errorUnit  qualityControl  \n",
       "timestamp                                            \n",
       "1992-01-03 00:00:00+00:00      degC             NaN  \n",
       "1992-02-11 00:00:00+00:00      degC             NaN  \n",
       "1992-03-24 00:00:00+00:00      degC             NaN  \n",
       "1992-05-06 00:00:00+00:00      degC             NaN  \n",
       "1992-07-17 00:00:00+00:00      degC             NaN  "
      ]
     },
     "execution_count": 23,
     "metadata": {},
     "output_type": "execute_result"
    }
   ],
   "source": [
    "df = pd.read_csv(StringIO(r.text),parse_dates=['timestamp'], date_format='ISO8601', index_col='timestamp')\n",
    "df.head()"
   ]
  },
  {
   "cell_type": "markdown",
   "id": "d23b8432-9af5-478d-b4f5-2fdbba857365",
   "metadata": {},
   "source": [
    "#### Split lake temperature data by collection method"
   ]
  },
  {
   "cell_type": "code",
   "execution_count": 24,
   "id": "44fe89f9-19fb-453c-8f1c-1bca24c40b93",
   "metadata": {},
   "outputs": [],
   "source": [
    "thermometer = df[df['method']=='thermometer']\n",
    "thermocouple = df[df['method']=='thermocouple']"
   ]
  },
  {
   "cell_type": "markdown",
   "id": "4aff2377-6387-4146-8c26-e28046a5acf4",
   "metadata": {},
   "source": [
    "### Historic volcanic activity\n",
    "\n",
    "[Historic volcanic activity Data](https://doi.org/10.21420/bw31-2x60) are available from a [GitHub repository](https://github.com/GeoNet/data/tree/main/historic-volcanic-activity). We access the Ruapehu data."
   ]
  },
  {
   "cell_type": "code",
   "execution_count": 25,
   "id": "908dc4e6-afff-4b8d-8a3c-20b29d3c999f",
   "metadata": {},
   "outputs": [],
   "source": [
    "url = 'https://raw.githubusercontent.com/GeoNet/data/refs/heads/main/historic-volcanic-activity/historic_eruptive_activity_ruapehu.csv'\n",
    "hist = pd.read_csv(url, parse_dates=['Date LocalTime'], date_format='ISO8601')"
   ]
  },
  {
   "cell_type": "code",
   "execution_count": 26,
   "id": "bb791a48-1dcc-463a-9e80-973fa27c7a7e",
   "metadata": {},
   "outputs": [
    {
     "data": {
      "text/html": [
       "<div>\n",
       "<style scoped>\n",
       "    .dataframe tbody tr th:only-of-type {\n",
       "        vertical-align: middle;\n",
       "    }\n",
       "\n",
       "    .dataframe tbody tr th {\n",
       "        vertical-align: top;\n",
       "    }\n",
       "\n",
       "    .dataframe thead th {\n",
       "        text-align: right;\n",
       "    }\n",
       "</style>\n",
       "<table border=\"1\" class=\"dataframe\">\n",
       "  <thead>\n",
       "    <tr style=\"text-align: right;\">\n",
       "      <th></th>\n",
       "      <th>Date LocalTime</th>\n",
       "      <th>Date Comment</th>\n",
       "      <th>Activity Description</th>\n",
       "      <th>Activity Scale</th>\n",
       "      <th>Additional Details</th>\n",
       "      <th>References</th>\n",
       "    </tr>\n",
       "  </thead>\n",
       "  <tbody>\n",
       "    <tr>\n",
       "      <th>526</th>\n",
       "      <td>1997-11-01</td>\n",
       "      <td>NaN</td>\n",
       "      <td>Minor phreatic eruptions</td>\n",
       "      <td>1</td>\n",
       "      <td>Confined to basin</td>\n",
       "      <td>NaN</td>\n",
       "    </tr>\n",
       "    <tr>\n",
       "      <th>527</th>\n",
       "      <td>1998-11-08</td>\n",
       "      <td>NaN</td>\n",
       "      <td>Small phreatic eruptions</td>\n",
       "      <td>1</td>\n",
       "      <td>Confined to basin</td>\n",
       "      <td>NaN</td>\n",
       "    </tr>\n",
       "    <tr>\n",
       "      <th>528</th>\n",
       "      <td>2006-10-04</td>\n",
       "      <td>NaN</td>\n",
       "      <td>Minor hydrothermal eruption</td>\n",
       "      <td>2</td>\n",
       "      <td>Confined to basin</td>\n",
       "      <td>NaN</td>\n",
       "    </tr>\n",
       "    <tr>\n",
       "      <th>529</th>\n",
       "      <td>2007-09-25</td>\n",
       "      <td>NaN</td>\n",
       "      <td>Moderate hydrothermal eruptions with lahars do...</td>\n",
       "      <td>4</td>\n",
       "      <td>Confined to summit plateau and Whangaehu valle...</td>\n",
       "      <td>NaN</td>\n",
       "    </tr>\n",
       "    <tr>\n",
       "      <th>530</th>\n",
       "      <td>2009-07-13</td>\n",
       "      <td>NaN</td>\n",
       "      <td>Phreatic activity</td>\n",
       "      <td>2</td>\n",
       "      <td>Small snow slurry lahars in upper Whangaehu</td>\n",
       "      <td>NaN</td>\n",
       "    </tr>\n",
       "  </tbody>\n",
       "</table>\n",
       "</div>"
      ],
      "text/plain": [
       "    Date LocalTime Date Comment  \\\n",
       "526     1997-11-01          NaN   \n",
       "527     1998-11-08          NaN   \n",
       "528     2006-10-04          NaN   \n",
       "529     2007-09-25          NaN   \n",
       "530     2009-07-13          NaN   \n",
       "\n",
       "                                  Activity Description  Activity Scale  \\\n",
       "526                           Minor phreatic eruptions               1   \n",
       "527                           Small phreatic eruptions               1   \n",
       "528                        Minor hydrothermal eruption               2   \n",
       "529  Moderate hydrothermal eruptions with lahars do...               4   \n",
       "530                                  Phreatic activity               2   \n",
       "\n",
       "                                    Additional Details References  \n",
       "526                                  Confined to basin        NaN  \n",
       "527                                  Confined to basin        NaN  \n",
       "528                                  Confined to basin        NaN  \n",
       "529  Confined to summit plateau and Whangaehu valle...        NaN  \n",
       "530        Small snow slurry lahars in upper Whangaehu        NaN  "
      ]
     },
     "execution_count": 26,
     "metadata": {},
     "output_type": "execute_result"
    }
   ],
   "source": [
    "hist.tail()"
   ]
  },
  {
   "cell_type": "markdown",
   "id": "bfbb7967-5939-4255-9073-5553b54a3882",
   "metadata": {},
   "source": [
    "### Basic Data Plot\n",
    "The data values are completely different so plot on two separate axes. Activity is plotted as a vertical lines. Set temperature x-axis limits to match temperature data, which has a shorter duration. As x-axes are shared, this forces both to have the same range."
   ]
  },
  {
   "cell_type": "code",
   "execution_count": 27,
   "id": "eb38f5ff-5c23-40f1-9f17-2922b7795fe1",
   "metadata": {},
   "outputs": [
    {
     "data": {
      "text/plain": [
       "Text(0, 0.5, 'Activity scale value')"
      ]
     },
     "execution_count": 27,
     "metadata": {},
     "output_type": "execute_result"
    },
    {
     "data": {
      "image/png": "[encoded data removed]",
      "text/plain": [
       "<Figure size 1500x600 with 2 Axes>"
      ]
     },
     "metadata": {},
     "output_type": "display_data"
    }
   ],
   "source": [
    "fig,(axt,axe) = plt.subplots(2,1,figsize=(15,6), sharex=True)\n",
    "\n",
    "axt.set_xlim(left=dt.datetime(1950,1,1), right=dt.datetime(2010,1,1))\n",
    "\n",
    "axt.plot(thermometer.index ,thermometer['value'], color='lightblue', label='thermometer')\n",
    "axt.plot(thermocouple.index ,thermocouple['value'], color='steelblue', label='thermocouple')\n",
    "axt.legend(loc='upper left')\n",
    "axt.set_ylabel('Temperature ($^o$C)')\n",
    "\n",
    "axe.vlines(hist['Date LocalTime'], ymin=0, ymax=hist['Activity Scale'], color='lightcoral')\n",
    "axe.set_ylim(0,5.5)\n",
    "axe.set_ylabel('Activity scale value')"
   ]
  }
 ],
 "metadata": {
  "kernelspec": {
   "display_name": "geonet-tutorial",
   "language": "python",
   "name": "geonet-tutorial"
  },
  "language_info": {
   "codemirror_mode": {
    "name": "ipython",
    "version": 3
   },
   "file_extension": ".py",
   "mimetype": "text/x-python",
   "name": "python",
   "nbconvert_exporter": "python",
   "pygments_lexer": "ipython3",
   "version": "3.12.7"
  }
 },
 "nbformat": 4,
 "nbformat_minor": 5
}
