{
 "cells": [
  {
   "cell_type": "markdown",
   "id": "amazing-gateway",
   "metadata": {},
   "source": [
    "# HOW TO RETRIEVE AND USE VOLCANO DATA\n",
    "\n",
    "# Manually collected data"
   ]
  },
  {
   "cell_type": "markdown",
   "id": "4f633d89-f91b-4c03-9554-12b48bfa0c3b",
   "metadata": {},
   "source": [
    "Manually collected data are available through [GeoNet's Tilde API (Application Program Interface)](https://tilde.geonet.org.nz/v4/api-docs/). There is also a [Data Discovery GUI](https://tilde.geonet.org.nz/ui/data-discovery) and a [Data Exploration GUI](https://tilde.geonet.org.nz/ui/data-exploration) for browser-based interactive data retrieval and basic analysis.\n",
    "\n",
    "For additional information on how to use Tilde with volcano data please refer to the [Supplementary notes](https://www.geonet.org.nz/data/supplementary/volcano_tilde_notes)"
   ]
  },
  {
   "cell_type": "markdown",
   "id": "dacab096-e283-478b-abf1-61935e8d931d",
   "metadata": {},
   "source": [
    "## &nbsp;Table of contents\n",
    "### 1. Basic requirements\n",
    "### 2. Water chemistry concentration data - basic data retrieval and graphing\n",
    "### 3. Airborne gas emission rate data - basic data retrieval and graphing\n",
    "### 4. Soil gas data - basic data retrieval and graphing\n",
    "### 5. Lake levelling data - basic data retrieval and graphing\n",
    "### 6. Retrieval without specifying data collection method - using airborne gas emission rate data\n",
    "### 7. Retrieval without specifying sensor code - using water chemistry concentration data\n",
    "### 8. Creating spreadsheet-like output - using water chemistry concentration data"
   ]
  },
  {
   "cell_type": "markdown",
   "id": "5a098d2a-e6a8-4744-92af-cefbfdb1fbd3",
   "metadata": {},
   "source": [
    "## &nbsp;1. Basic requirements"
   ]
  },
  {
   "cell_type": "markdown",
   "id": "clear-possession",
   "metadata": {},
   "source": [
    "### Import required Python modules/libraries"
   ]
  },
  {
   "cell_type": "code",
   "execution_count": 1,
   "id": "juvenile-vaccine",
   "metadata": {},
   "outputs": [],
   "source": [
    "#for querying data\n",
    "import requests\n",
    "import json\n",
    "\n",
    "#pandas for data analysis\n",
    "import pandas as pd\n",
    "\n",
    "#matplotlib for graphing\n",
    "import matplotlib.pyplot as plt\n",
    "\n",
    "#for getting CSV format data\n",
    "from io import StringIO\n",
    "\n",
    "#for system functions\n",
    "import os"
   ]
  },
  {
   "cell_type": "markdown",
   "id": "065a5ddd-5d30-45bb-9a72-43f7142607bf",
   "metadata": {},
   "source": [
    "### Set the source URL\n",
    "\n",
    "Using [API data endpoint](https://tilde.geonet.org.nz/v4/api-docs/endpoint/data)"
   ]
  },
  {
   "cell_type": "code",
   "execution_count": 2,
   "id": "d7670945-55b0-4d8b-bb62-73ca39e14349",
   "metadata": {},
   "outputs": [],
   "source": [
    "#API version 4 data endpoint\n",
    "source = 'https://tilde.geonet.org.nz/v4/data/'"
   ]
  },
  {
   "cell_type": "markdown",
   "id": "4437e08d-47a7-4d62-a6e1-f8023698c1dc",
   "metadata": {},
   "source": [
    "## &nbsp;2. Water chemistry concentration data\n",
    "## Basic data retrieval and graphing"
   ]
  },
  {
   "cell_type": "markdown",
   "id": "684a82d8-e6f4-4da9-b1cc-7cd6cf0125a4",
   "metadata": {},
   "source": [
    "We request data on the concentration of Chloride (Cl) in water from a lake at Inferno Crater.\n",
    "\n",
    "For all manually collected data:\n",
    "- domain = `manualcollect`\n",
    "\n",
    "The specific parameters are:\n",
    "  - station = `OT001`, the station code for Inferno Crater\n",
    "  - name (type of data) = `lake-Cl-conc`\n",
    "  - sensorcode = `MC01`, code to specify 'sub' collection points\n",
    "  - method (of data collection) = `water-analysis-lab`\n",
    "  - aspect = `-`, not set as not relevant for this query\n",
    "\n",
    "The resulting `key` specifies the data stream:\n",
    "  - `OT001/lake-Cl-conc/MC01/water-analysis-lab/-`\n",
    "\n",
    "Date range:\n",
    "  - startdate = `2000-01-01`\n",
    "  - enddate = `2024-09-01`<br>\n",
    "\n",
    "The date range can also be specified as `latest`, followed by a time interval, e.g. `latest/7d` for data from the latest 7 days. The longest time interval is 30 days. Given the very low sampling rate of manually collected data, a request for the last 30 days of data is likely to return at most one data value (if any). For this reason, with manually collected data, specifiying a `startdate` and `enddate` is recommended.\n",
    "\n",
    "Complete request\n",
    "- `manualcollect/OT001/lake-Cl-conc/MC01/water-analysis-lab/-/2000-01-01/2024-09-01`"
   ]
  },
  {
   "cell_type": "code",
   "execution_count": 3,
   "id": "10e94336-5048-4cb1-9f84-9f97f8b04e3f",
   "metadata": {},
   "outputs": [],
   "source": [
    "url = source+'manualcollect/OT001/lake-Cl-conc/MC01/water-analysis-lab/-/2000-01-01/2024-09-01'"
   ]
  },
  {
   "cell_type": "markdown",
   "id": "911f9728-0d94-42e3-8753-7dd80d425b3b",
   "metadata": {},
   "source": [
    "We will now query the URL and ask for a CSV format to be returned. A 200 response code indicates everything went okay, and the result has been returned (if any)."
   ]
  },
  {
   "cell_type": "code",
   "execution_count": 4,
   "id": "2ccd7adb-5b59-434b-9613-40cc08025750",
   "metadata": {},
   "outputs": [
    {
     "name": "stdout",
     "output_type": "stream",
     "text": [
      "<Response [200]>\n"
     ]
    }
   ],
   "source": [
    "r = requests.get(url, headers={'Accept':'text/csv'})\n",
    "print (r)"
   ]
  },
  {
   "cell_type": "markdown",
   "id": "cfb78700-d4c6-433b-b496-d7760c3b2aa5",
   "metadata": {},
   "source": [
    "To work with the observation data we will use python's [pandas module](https://pandas.pydata.org/). We will now store the response of our request in a pandas dataframe (`df`), using `pd.read_csv`. By using `parse_dates=['timestamp']` we can convert the 'timestamp' column to a datetime, which makes it easier to work with the data. We add `date_format='ISO8601'` to ensure that pandas uses the full `ISO 8601` datetime format we record our data in. Using `index_col`, we can set the date and time as the index of the dataframe. More information on `pd.read_csv` can be found here: https://pandas.pydata.org/pandas-docs/stable/reference/api/pandas.read_csv.html. We need to use the `StringIO` function with the text returned from our query. By printing the beginning of the result, with `df.head()`, we can see the first 5 lines of the dataframe from our query.\n",
    "\n",
    "Once we have the data in the dataframe, we can begin our analysis."
   ]
  },
  {
   "cell_type": "code",
   "execution_count": 5,
   "id": "990aade1-645e-4a9f-b472-8981f76d5fc8",
   "metadata": {},
   "outputs": [
    {
     "data": {
      "text/html": [
       "<div>\n",
       "<style scoped>\n",
       "    .dataframe tbody tr th:only-of-type {\n",
       "        vertical-align: middle;\n",
       "    }\n",
       "\n",
       "    .dataframe tbody tr th {\n",
       "        vertical-align: top;\n",
       "    }\n",
       "\n",
       "    .dataframe thead th {\n",
       "        text-align: right;\n",
       "    }\n",
       "</style>\n",
       "<table border=\"1\" class=\"dataframe\">\n",
       "  <thead>\n",
       "    <tr style=\"text-align: right;\">\n",
       "      <th></th>\n",
       "      <th>domain</th>\n",
       "      <th>station</th>\n",
       "      <th>name</th>\n",
       "      <th>sensorCode</th>\n",
       "      <th>method</th>\n",
       "      <th>aspect</th>\n",
       "      <th>value</th>\n",
       "      <th>valueUnit</th>\n",
       "      <th>error</th>\n",
       "      <th>errorUnit</th>\n",
       "      <th>qualityControl</th>\n",
       "    </tr>\n",
       "    <tr>\n",
       "      <th>timestamp</th>\n",
       "      <th></th>\n",
       "      <th></th>\n",
       "      <th></th>\n",
       "      <th></th>\n",
       "      <th></th>\n",
       "      <th></th>\n",
       "      <th></th>\n",
       "      <th></th>\n",
       "      <th></th>\n",
       "      <th></th>\n",
       "      <th></th>\n",
       "    </tr>\n",
       "  </thead>\n",
       "  <tbody>\n",
       "    <tr>\n",
       "      <th>2009-02-04 00:00:00+00:00</th>\n",
       "      <td>manualcollect</td>\n",
       "      <td>OT001</td>\n",
       "      <td>lake-Cl-conc</td>\n",
       "      <td>MC01</td>\n",
       "      <td>water-analysis-lab</td>\n",
       "      <td>nil</td>\n",
       "      <td>922.0</td>\n",
       "      <td>mg/L</td>\n",
       "      <td>0.0</td>\n",
       "      <td>mg/L</td>\n",
       "      <td>NaN</td>\n",
       "    </tr>\n",
       "    <tr>\n",
       "      <th>2010-06-04 00:00:00+00:00</th>\n",
       "      <td>manualcollect</td>\n",
       "      <td>OT001</td>\n",
       "      <td>lake-Cl-conc</td>\n",
       "      <td>MC01</td>\n",
       "      <td>water-analysis-lab</td>\n",
       "      <td>nil</td>\n",
       "      <td>874.0</td>\n",
       "      <td>mg/L</td>\n",
       "      <td>0.0</td>\n",
       "      <td>mg/L</td>\n",
       "      <td>NaN</td>\n",
       "    </tr>\n",
       "    <tr>\n",
       "      <th>2011-06-29 00:00:00+00:00</th>\n",
       "      <td>manualcollect</td>\n",
       "      <td>OT001</td>\n",
       "      <td>lake-Cl-conc</td>\n",
       "      <td>MC01</td>\n",
       "      <td>water-analysis-lab</td>\n",
       "      <td>nil</td>\n",
       "      <td>896.0</td>\n",
       "      <td>mg/L</td>\n",
       "      <td>0.0</td>\n",
       "      <td>mg/L</td>\n",
       "      <td>NaN</td>\n",
       "    </tr>\n",
       "    <tr>\n",
       "      <th>2012-05-02 00:00:00+00:00</th>\n",
       "      <td>manualcollect</td>\n",
       "      <td>OT001</td>\n",
       "      <td>lake-Cl-conc</td>\n",
       "      <td>MC01</td>\n",
       "      <td>water-analysis-lab</td>\n",
       "      <td>nil</td>\n",
       "      <td>867.0</td>\n",
       "      <td>mg/L</td>\n",
       "      <td>0.0</td>\n",
       "      <td>mg/L</td>\n",
       "      <td>NaN</td>\n",
       "    </tr>\n",
       "    <tr>\n",
       "      <th>2013-01-17 00:00:00+00:00</th>\n",
       "      <td>manualcollect</td>\n",
       "      <td>OT001</td>\n",
       "      <td>lake-Cl-conc</td>\n",
       "      <td>MC01</td>\n",
       "      <td>water-analysis-lab</td>\n",
       "      <td>nil</td>\n",
       "      <td>886.0</td>\n",
       "      <td>mg/L</td>\n",
       "      <td>0.0</td>\n",
       "      <td>mg/L</td>\n",
       "      <td>NaN</td>\n",
       "    </tr>\n",
       "  </tbody>\n",
       "</table>\n",
       "</div>"
      ],
      "text/plain": [
       "                                  domain station          name sensorCode  \\\n",
       "timestamp                                                                   \n",
       "2009-02-04 00:00:00+00:00  manualcollect   OT001  lake-Cl-conc       MC01   \n",
       "2010-06-04 00:00:00+00:00  manualcollect   OT001  lake-Cl-conc       MC01   \n",
       "2011-06-29 00:00:00+00:00  manualcollect   OT001  lake-Cl-conc       MC01   \n",
       "2012-05-02 00:00:00+00:00  manualcollect   OT001  lake-Cl-conc       MC01   \n",
       "2013-01-17 00:00:00+00:00  manualcollect   OT001  lake-Cl-conc       MC01   \n",
       "\n",
       "                                       method aspect  value valueUnit  error  \\\n",
       "timestamp                                                                      \n",
       "2009-02-04 00:00:00+00:00  water-analysis-lab    nil  922.0      mg/L    0.0   \n",
       "2010-06-04 00:00:00+00:00  water-analysis-lab    nil  874.0      mg/L    0.0   \n",
       "2011-06-29 00:00:00+00:00  water-analysis-lab    nil  896.0      mg/L    0.0   \n",
       "2012-05-02 00:00:00+00:00  water-analysis-lab    nil  867.0      mg/L    0.0   \n",
       "2013-01-17 00:00:00+00:00  water-analysis-lab    nil  886.0      mg/L    0.0   \n",
       "\n",
       "                          errorUnit  qualityControl  \n",
       "timestamp                                            \n",
       "2009-02-04 00:00:00+00:00      mg/L             NaN  \n",
       "2010-06-04 00:00:00+00:00      mg/L             NaN  \n",
       "2011-06-29 00:00:00+00:00      mg/L             NaN  \n",
       "2012-05-02 00:00:00+00:00      mg/L             NaN  \n",
       "2013-01-17 00:00:00+00:00      mg/L             NaN  "
      ]
     },
     "execution_count": 5,
     "metadata": {},
     "output_type": "execute_result"
    }
   ],
   "source": [
    "df = pd.read_csv(StringIO(r.text),parse_dates=['timestamp'], date_format='ISO8601', index_col='timestamp')\n",
    "df.head()"
   ]
  },
  {
   "cell_type": "markdown",
   "id": "1abb429c-f03f-40bc-807f-3ae86829863e",
   "metadata": {},
   "source": [
    "#### Data Summary\n",
    "By using `df.describe()` we can summarise the returned data as this features generates descriptive statistics from dataframes. We can see the number of values (and errors). All the qc values are currently undefined. By default, we also get to see the mean, standard deviation, minimum, maximum, and some percentile values."
   ]
  },
  {
   "cell_type": "code",
   "execution_count": 6,
   "id": "b57f4b34-92e8-4fa4-b93f-933d87751b1f",
   "metadata": {},
   "outputs": [
    {
     "data": {
      "text/html": [
       "<div>\n",
       "<style scoped>\n",
       "    .dataframe tbody tr th:only-of-type {\n",
       "        vertical-align: middle;\n",
       "    }\n",
       "\n",
       "    .dataframe tbody tr th {\n",
       "        vertical-align: top;\n",
       "    }\n",
       "\n",
       "    .dataframe thead th {\n",
       "        text-align: right;\n",
       "    }\n",
       "</style>\n",
       "<table border=\"1\" class=\"dataframe\">\n",
       "  <thead>\n",
       "    <tr style=\"text-align: right;\">\n",
       "      <th></th>\n",
       "      <th>value</th>\n",
       "      <th>error</th>\n",
       "      <th>qualityControl</th>\n",
       "    </tr>\n",
       "  </thead>\n",
       "  <tbody>\n",
       "    <tr>\n",
       "      <th>count</th>\n",
       "      <td>16.000000</td>\n",
       "      <td>16.0</td>\n",
       "      <td>0.0</td>\n",
       "    </tr>\n",
       "    <tr>\n",
       "      <th>mean</th>\n",
       "      <td>861.187500</td>\n",
       "      <td>0.0</td>\n",
       "      <td>NaN</td>\n",
       "    </tr>\n",
       "    <tr>\n",
       "      <th>std</th>\n",
       "      <td>32.073288</td>\n",
       "      <td>0.0</td>\n",
       "      <td>NaN</td>\n",
       "    </tr>\n",
       "    <tr>\n",
       "      <th>min</th>\n",
       "      <td>799.000000</td>\n",
       "      <td>0.0</td>\n",
       "      <td>NaN</td>\n",
       "    </tr>\n",
       "    <tr>\n",
       "      <th>25%</th>\n",
       "      <td>837.000000</td>\n",
       "      <td>0.0</td>\n",
       "      <td>NaN</td>\n",
       "    </tr>\n",
       "    <tr>\n",
       "      <th>50%</th>\n",
       "      <td>865.000000</td>\n",
       "      <td>0.0</td>\n",
       "      <td>NaN</td>\n",
       "    </tr>\n",
       "    <tr>\n",
       "      <th>75%</th>\n",
       "      <td>884.500000</td>\n",
       "      <td>0.0</td>\n",
       "      <td>NaN</td>\n",
       "    </tr>\n",
       "    <tr>\n",
       "      <th>max</th>\n",
       "      <td>922.000000</td>\n",
       "      <td>0.0</td>\n",
       "      <td>NaN</td>\n",
       "    </tr>\n",
       "  </tbody>\n",
       "</table>\n",
       "</div>"
      ],
      "text/plain": [
       "            value  error  qualityControl\n",
       "count   16.000000   16.0             0.0\n",
       "mean   861.187500    0.0             NaN\n",
       "std     32.073288    0.0             NaN\n",
       "min    799.000000    0.0             NaN\n",
       "25%    837.000000    0.0             NaN\n",
       "50%    865.000000    0.0             NaN\n",
       "75%    884.500000    0.0             NaN\n",
       "max    922.000000    0.0             NaN"
      ]
     },
     "execution_count": 6,
     "metadata": {},
     "output_type": "execute_result"
    }
   ],
   "source": [
    "df.describe()"
   ]
  },
  {
   "cell_type": "markdown",
   "id": "fd3d2fe4-1853-4389-ad75-459db0a63236",
   "metadata": {},
   "source": [
    "#### Basic Data Plot\n",
    "By using the value column from our dataframe we are able to produce a basic graph of the chloride concentration against time."
   ]
  },
  {
   "cell_type": "code",
   "execution_count": 7,
   "id": "5cf33137-8933-4661-9d5c-76849badfb23",
   "metadata": {},
   "outputs": [
    {
     "data": {
      "text/plain": [
       "Text(0, 0.5, 'chloride(Cl) concentration (mg/L)')"
      ]
     },
     "execution_count": 7,
     "metadata": {},
     "output_type": "execute_result"
    },
    {
     "data": {
      "image/png": "[encoded data removed]",
      "text/plain": [
       "<Figure size 1500x500 with 1 Axes>"
      ]
     },
     "metadata": {},
     "output_type": "display_data"
    }
   ],
   "source": [
    "fig,ax = plt.subplots(figsize=(15,5))\n",
    "ax.plot(df.index, df['value'], color='lightblue')\n",
    "ax.plot(df.index, df['value'], color='blue', marker='.', linestyle='None')   \n",
    "ax.set_ylabel('chloride(Cl) concentration (mg/L)')"
   ]
  },
  {
   "cell_type": "markdown",
   "id": "ca37dd66-952f-4627-9a75-e09250d731a7",
   "metadata": {},
   "source": [
    "## &nbsp;3. Airborne gas emission rate data\n",
    "## Basic data retrieval and graphing"
   ]
  },
  {
   "cell_type": "markdown",
   "id": "cf762d3b-e3c5-498d-acd6-b71a925569bc",
   "metadata": {},
   "source": [
    "We request sulphur dioxide (SO2) emission rate from Whakaari/White Island collected using a Flyspec sensor.\n",
    "\n",
    "For all manually collected data:\n",
    "- domain = `manualcollect`\n",
    "\n",
    "The required parameters are:\n",
    "  - station = `WI000`, the station code for Whakaari/White Island as a singular entity\n",
    "  - name (type of data) = `plume-SO2-gasflux`\n",
    "  - sensorcode = `MC01`, code to specify 'sub' collection points\n",
    "  - method (of data collection) = `flyspec`\n",
    "  - aspect = `-`, not set as not relevant for this query\n",
    "\n",
    "The resulting `key` specifies the data stream:\n",
    "  - `WI000/plume-SO2-gasflux/MC01/flyspec/-`\n",
    "\n",
    "Date range:\n",
    "- dates = `2023-01-01/2024-09-01`\n",
    "  - startdate = `2023-01-01`\n",
    "  - enddate = `2024-09-01`\n",
    "Instead of providing two dates, the date range can be specified as `latest` followed by a time interval, e.g. `latest/7d` for data from the latest 7 days. The longest time interval is 30 days. Given the very low sampling rate of manually collected data, data from the last 30 days is likely to retrieve at most one data value. For this reason, with manually collected data, specifiying a `startdate` and `enddate` is recommended.\n",
    "\n",
    "Complete request\n",
    "- `manualcollect/WI000/plume-SO2-gasflux/MC01/flyspec/-/2023-01-01/2024-09-01`"
   ]
  },
  {
   "cell_type": "code",
   "execution_count": 8,
   "id": "d070cf7e-84d8-4ff9-a978-b3ca3765cb93",
   "metadata": {},
   "outputs": [
    {
     "name": "stdout",
     "output_type": "stream",
     "text": [
      "<Response [200]>\n"
     ]
    },
    {
     "data": {
      "text/html": [
       "<div>\n",
       "<style scoped>\n",
       "    .dataframe tbody tr th:only-of-type {\n",
       "        vertical-align: middle;\n",
       "    }\n",
       "\n",
       "    .dataframe tbody tr th {\n",
       "        vertical-align: top;\n",
       "    }\n",
       "\n",
       "    .dataframe thead th {\n",
       "        text-align: right;\n",
       "    }\n",
       "</style>\n",
       "<table border=\"1\" class=\"dataframe\">\n",
       "  <thead>\n",
       "    <tr style=\"text-align: right;\">\n",
       "      <th></th>\n",
       "      <th>domain</th>\n",
       "      <th>station</th>\n",
       "      <th>name</th>\n",
       "      <th>sensorCode</th>\n",
       "      <th>method</th>\n",
       "      <th>aspect</th>\n",
       "      <th>value</th>\n",
       "      <th>valueUnit</th>\n",
       "      <th>error</th>\n",
       "      <th>errorUnit</th>\n",
       "      <th>qualityControl</th>\n",
       "    </tr>\n",
       "    <tr>\n",
       "      <th>timestamp</th>\n",
       "      <th></th>\n",
       "      <th></th>\n",
       "      <th></th>\n",
       "      <th></th>\n",
       "      <th></th>\n",
       "      <th></th>\n",
       "      <th></th>\n",
       "      <th></th>\n",
       "      <th></th>\n",
       "      <th></th>\n",
       "      <th></th>\n",
       "    </tr>\n",
       "  </thead>\n",
       "  <tbody>\n",
       "    <tr>\n",
       "      <th>2023-02-07 23:30:00+00:00</th>\n",
       "      <td>manualcollect</td>\n",
       "      <td>WI000</td>\n",
       "      <td>plume-SO2-gasflux</td>\n",
       "      <td>MC01</td>\n",
       "      <td>flyspec</td>\n",
       "      <td>nil</td>\n",
       "      <td>1.99074</td>\n",
       "      <td>kg/s</td>\n",
       "      <td>0.067130</td>\n",
       "      <td>kg/s</td>\n",
       "      <td>NaN</td>\n",
       "    </tr>\n",
       "    <tr>\n",
       "      <th>2023-03-09 12:30:00+00:00</th>\n",
       "      <td>manualcollect</td>\n",
       "      <td>WI000</td>\n",
       "      <td>plume-SO2-gasflux</td>\n",
       "      <td>MC01</td>\n",
       "      <td>flyspec</td>\n",
       "      <td>nil</td>\n",
       "      <td>2.91667</td>\n",
       "      <td>kg/s</td>\n",
       "      <td>0.370370</td>\n",
       "      <td>kg/s</td>\n",
       "      <td>NaN</td>\n",
       "    </tr>\n",
       "    <tr>\n",
       "      <th>2023-04-26 01:00:00+00:00</th>\n",
       "      <td>manualcollect</td>\n",
       "      <td>WI000</td>\n",
       "      <td>plume-SO2-gasflux</td>\n",
       "      <td>MC01</td>\n",
       "      <td>flyspec</td>\n",
       "      <td>nil</td>\n",
       "      <td>1.16898</td>\n",
       "      <td>kg/s</td>\n",
       "      <td>0.081018</td>\n",
       "      <td>kg/s</td>\n",
       "      <td>NaN</td>\n",
       "    </tr>\n",
       "    <tr>\n",
       "      <th>2023-06-12 02:30:00+00:00</th>\n",
       "      <td>manualcollect</td>\n",
       "      <td>WI000</td>\n",
       "      <td>plume-SO2-gasflux</td>\n",
       "      <td>MC01</td>\n",
       "      <td>flyspec</td>\n",
       "      <td>nil</td>\n",
       "      <td>2.01389</td>\n",
       "      <td>kg/s</td>\n",
       "      <td>0.219907</td>\n",
       "      <td>kg/s</td>\n",
       "      <td>NaN</td>\n",
       "    </tr>\n",
       "    <tr>\n",
       "      <th>2023-09-13 00:30:00+00:00</th>\n",
       "      <td>manualcollect</td>\n",
       "      <td>WI000</td>\n",
       "      <td>plume-SO2-gasflux</td>\n",
       "      <td>MC01</td>\n",
       "      <td>flyspec</td>\n",
       "      <td>nil</td>\n",
       "      <td>2.77778</td>\n",
       "      <td>kg/s</td>\n",
       "      <td>0.266204</td>\n",
       "      <td>kg/s</td>\n",
       "      <td>NaN</td>\n",
       "    </tr>\n",
       "  </tbody>\n",
       "</table>\n",
       "</div>"
      ],
      "text/plain": [
       "                                  domain station               name  \\\n",
       "timestamp                                                             \n",
       "2023-02-07 23:30:00+00:00  manualcollect   WI000  plume-SO2-gasflux   \n",
       "2023-03-09 12:30:00+00:00  manualcollect   WI000  plume-SO2-gasflux   \n",
       "2023-04-26 01:00:00+00:00  manualcollect   WI000  plume-SO2-gasflux   \n",
       "2023-06-12 02:30:00+00:00  manualcollect   WI000  plume-SO2-gasflux   \n",
       "2023-09-13 00:30:00+00:00  manualcollect   WI000  plume-SO2-gasflux   \n",
       "\n",
       "                          sensorCode   method aspect    value valueUnit  \\\n",
       "timestamp                                                                 \n",
       "2023-02-07 23:30:00+00:00       MC01  flyspec    nil  1.99074      kg/s   \n",
       "2023-03-09 12:30:00+00:00       MC01  flyspec    nil  2.91667      kg/s   \n",
       "2023-04-26 01:00:00+00:00       MC01  flyspec    nil  1.16898      kg/s   \n",
       "2023-06-12 02:30:00+00:00       MC01  flyspec    nil  2.01389      kg/s   \n",
       "2023-09-13 00:30:00+00:00       MC01  flyspec    nil  2.77778      kg/s   \n",
       "\n",
       "                              error errorUnit  qualityControl  \n",
       "timestamp                                                      \n",
       "2023-02-07 23:30:00+00:00  0.067130      kg/s             NaN  \n",
       "2023-03-09 12:30:00+00:00  0.370370      kg/s             NaN  \n",
       "2023-04-26 01:00:00+00:00  0.081018      kg/s             NaN  \n",
       "2023-06-12 02:30:00+00:00  0.219907      kg/s             NaN  \n",
       "2023-09-13 00:30:00+00:00  0.266204      kg/s             NaN  "
      ]
     },
     "execution_count": 8,
     "metadata": {},
     "output_type": "execute_result"
    }
   ],
   "source": [
    "url = source+'manualcollect/WI000/plume-SO2-gasflux/MC01/flyspec/-/2023-01-01/2024-09-01'\n",
    "\n",
    "r = requests.get(url, headers={'Accept':'text/csv'})\n",
    "print (r)\n",
    "\n",
    "df = pd.read_csv(StringIO(r.text),parse_dates=['timestamp'], date_format='ISO8601', index_col='timestamp')\n",
    "df.head()"
   ]
  },
  {
   "cell_type": "code",
   "execution_count": 9,
   "id": "307abe78-1614-4ed6-b61f-914f8d8fde92",
   "metadata": {},
   "outputs": [
    {
     "data": {
      "text/plain": [
       "Text(0, 0.5, 'sulphur dioxide (SO2) emission rate (kg/s)')"
      ]
     },
     "execution_count": 9,
     "metadata": {},
     "output_type": "execute_result"
    },
    {
     "data": {
      "image/png": "[encoded data removed]",
      "text/plain": [
       "<Figure size 1500x500 with 1 Axes>"
      ]
     },
     "metadata": {},
     "output_type": "display_data"
    }
   ],
   "source": [
    "fig,ax = plt.subplots(figsize=(15,5))\n",
    "ax.plot(df.index, df['value'], color='lightblue')\n",
    "ax.plot(df.index, df['value'], color='blue', marker='.', linestyle='None')   \n",
    "ax.set_ylabel('sulphur dioxide (SO2) emission rate (kg/s)')"
   ]
  },
  {
   "cell_type": "markdown",
   "id": "ce5d4e36-6c35-4f29-8de4-e69cd15a005e",
   "metadata": {},
   "source": [
    "## &nbsp;4. Soil gas data\n",
    "## Basic data retrieval and graphing"
   ]
  },
  {
   "cell_type": "markdown",
   "id": "d927e875-2dcc-4a1b-8623-5a7a970a19cf",
   "metadata": {},
   "source": [
    "We request carbon dioxide (CO$_2$) emission rate from Whakaari/White Island collected using an accumulation chamber.\n",
    "\n",
    "For all manually collected data:\n",
    "- domain = `manualcollect`\n",
    "\n",
    "The required parameters are:\n",
    "  - station = `WI020`, the station code for a soil gas measurement location at Whakaari/White Island\n",
    "  - name (type of data) = `ground-CO2-gasflux`\n",
    "  - sensorcode = `MC01`, code to specify 'sub' collection points\n",
    "  - method (of data collection) = `surface-accumulation-chamber`\n",
    "  - aspect = `-`, not set as not relevant for this query\n",
    "\n",
    "The resulting `key` specifies the data stream:\n",
    "  - `WI020/ground-CO2-gasflux/MC01/surface-accumulation-chamber/-`\n",
    "\n",
    "Date range:\n",
    "  - startdate = `2000-01-01`\n",
    "  - enddate = `2020-01-01`<br>\n",
    "Instead of providing two dates, the date range can be specified as `latest` followed by a time interval, e.g. `latest/7d` for data from the latest 7 days. The longest time interval is 30 days. Given the very low sampling rate of manually collected data, data from the last 30 days is likely to retrieve at most one data value. For this reason, with manually collected data, specifiying a `startdate` and `enddate` is recommended.\n",
    "\n",
    "Complete request\n",
    "- `WI020/ground-CO2-gasflux/MC01/surface-accumulation-chamber/-/2000-01-01/2020-01-01`"
   ]
  },
  {
   "cell_type": "code",
   "execution_count": 10,
   "id": "7d3b5822-b609-4360-a7fc-63074ba07d3b",
   "metadata": {},
   "outputs": [
    {
     "name": "stdout",
     "output_type": "stream",
     "text": [
      "<Response [200]>\n"
     ]
    },
    {
     "data": {
      "text/html": [
       "<div>\n",
       "<style scoped>\n",
       "    .dataframe tbody tr th:only-of-type {\n",
       "        vertical-align: middle;\n",
       "    }\n",
       "\n",
       "    .dataframe tbody tr th {\n",
       "        vertical-align: top;\n",
       "    }\n",
       "\n",
       "    .dataframe thead th {\n",
       "        text-align: right;\n",
       "    }\n",
       "</style>\n",
       "<table border=\"1\" class=\"dataframe\">\n",
       "  <thead>\n",
       "    <tr style=\"text-align: right;\">\n",
       "      <th></th>\n",
       "      <th>domain</th>\n",
       "      <th>station</th>\n",
       "      <th>name</th>\n",
       "      <th>sensorCode</th>\n",
       "      <th>method</th>\n",
       "      <th>aspect</th>\n",
       "      <th>value</th>\n",
       "      <th>valueUnit</th>\n",
       "      <th>error</th>\n",
       "      <th>errorUnit</th>\n",
       "      <th>qualityControl</th>\n",
       "    </tr>\n",
       "    <tr>\n",
       "      <th>timestamp</th>\n",
       "      <th></th>\n",
       "      <th></th>\n",
       "      <th></th>\n",
       "      <th></th>\n",
       "      <th></th>\n",
       "      <th></th>\n",
       "      <th></th>\n",
       "      <th></th>\n",
       "      <th></th>\n",
       "      <th></th>\n",
       "      <th></th>\n",
       "    </tr>\n",
       "  </thead>\n",
       "  <tbody>\n",
       "    <tr>\n",
       "      <th>2002-11-27 00:00:00+00:00</th>\n",
       "      <td>manualcollect</td>\n",
       "      <td>WI020</td>\n",
       "      <td>ground-CO2-gasflux</td>\n",
       "      <td>MC01</td>\n",
       "      <td>surface-accumulation-chamber</td>\n",
       "      <td>nil</td>\n",
       "      <td>72.10</td>\n",
       "      <td>g/m2/day</td>\n",
       "      <td>0.0</td>\n",
       "      <td>g/m2/day</td>\n",
       "      <td>NaN</td>\n",
       "    </tr>\n",
       "    <tr>\n",
       "      <th>2004-05-18 00:00:00+00:00</th>\n",
       "      <td>manualcollect</td>\n",
       "      <td>WI020</td>\n",
       "      <td>ground-CO2-gasflux</td>\n",
       "      <td>MC01</td>\n",
       "      <td>surface-accumulation-chamber</td>\n",
       "      <td>nil</td>\n",
       "      <td>119.09</td>\n",
       "      <td>g/m2/day</td>\n",
       "      <td>0.0</td>\n",
       "      <td>g/m2/day</td>\n",
       "      <td>NaN</td>\n",
       "    </tr>\n",
       "    <tr>\n",
       "      <th>2004-08-03 00:00:00+00:00</th>\n",
       "      <td>manualcollect</td>\n",
       "      <td>WI020</td>\n",
       "      <td>ground-CO2-gasflux</td>\n",
       "      <td>MC01</td>\n",
       "      <td>surface-accumulation-chamber</td>\n",
       "      <td>nil</td>\n",
       "      <td>1088.50</td>\n",
       "      <td>g/m2/day</td>\n",
       "      <td>0.0</td>\n",
       "      <td>g/m2/day</td>\n",
       "      <td>NaN</td>\n",
       "    </tr>\n",
       "    <tr>\n",
       "      <th>2004-11-10 00:00:00+00:00</th>\n",
       "      <td>manualcollect</td>\n",
       "      <td>WI020</td>\n",
       "      <td>ground-CO2-gasflux</td>\n",
       "      <td>MC01</td>\n",
       "      <td>surface-accumulation-chamber</td>\n",
       "      <td>nil</td>\n",
       "      <td>91.94</td>\n",
       "      <td>g/m2/day</td>\n",
       "      <td>0.0</td>\n",
       "      <td>g/m2/day</td>\n",
       "      <td>NaN</td>\n",
       "    </tr>\n",
       "    <tr>\n",
       "      <th>2005-02-22 00:00:00+00:00</th>\n",
       "      <td>manualcollect</td>\n",
       "      <td>WI020</td>\n",
       "      <td>ground-CO2-gasflux</td>\n",
       "      <td>MC01</td>\n",
       "      <td>surface-accumulation-chamber</td>\n",
       "      <td>nil</td>\n",
       "      <td>140.96</td>\n",
       "      <td>g/m2/day</td>\n",
       "      <td>0.0</td>\n",
       "      <td>g/m2/day</td>\n",
       "      <td>NaN</td>\n",
       "    </tr>\n",
       "  </tbody>\n",
       "</table>\n",
       "</div>"
      ],
      "text/plain": [
       "                                  domain station                name  \\\n",
       "timestamp                                                              \n",
       "2002-11-27 00:00:00+00:00  manualcollect   WI020  ground-CO2-gasflux   \n",
       "2004-05-18 00:00:00+00:00  manualcollect   WI020  ground-CO2-gasflux   \n",
       "2004-08-03 00:00:00+00:00  manualcollect   WI020  ground-CO2-gasflux   \n",
       "2004-11-10 00:00:00+00:00  manualcollect   WI020  ground-CO2-gasflux   \n",
       "2005-02-22 00:00:00+00:00  manualcollect   WI020  ground-CO2-gasflux   \n",
       "\n",
       "                          sensorCode                        method aspect  \\\n",
       "timestamp                                                                   \n",
       "2002-11-27 00:00:00+00:00       MC01  surface-accumulation-chamber    nil   \n",
       "2004-05-18 00:00:00+00:00       MC01  surface-accumulation-chamber    nil   \n",
       "2004-08-03 00:00:00+00:00       MC01  surface-accumulation-chamber    nil   \n",
       "2004-11-10 00:00:00+00:00       MC01  surface-accumulation-chamber    nil   \n",
       "2005-02-22 00:00:00+00:00       MC01  surface-accumulation-chamber    nil   \n",
       "\n",
       "                             value valueUnit  error errorUnit  qualityControl  \n",
       "timestamp                                                                      \n",
       "2002-11-27 00:00:00+00:00    72.10  g/m2/day    0.0  g/m2/day             NaN  \n",
       "2004-05-18 00:00:00+00:00   119.09  g/m2/day    0.0  g/m2/day             NaN  \n",
       "2004-08-03 00:00:00+00:00  1088.50  g/m2/day    0.0  g/m2/day             NaN  \n",
       "2004-11-10 00:00:00+00:00    91.94  g/m2/day    0.0  g/m2/day             NaN  \n",
       "2005-02-22 00:00:00+00:00   140.96  g/m2/day    0.0  g/m2/day             NaN  "
      ]
     },
     "execution_count": 10,
     "metadata": {},
     "output_type": "execute_result"
    }
   ],
   "source": [
    "url = source+'manualcollect/WI020/ground-CO2-gasflux/MC01/surface-accumulation-chamber/-/2000-01-01/2020-01-01'\n",
    "\n",
    "r = requests.get(url, headers={'Accept':'text/csv'})\n",
    "print (r)\n",
    "\n",
    "df = pd.read_csv(StringIO(r.text),parse_dates=['timestamp'], date_format='ISO8601', index_col='timestamp')\n",
    "df.head()"
   ]
  },
  {
   "cell_type": "code",
   "execution_count": 11,
   "id": "5adc8877-8300-4c8e-9515-0c2dc786ca1c",
   "metadata": {},
   "outputs": [
    {
     "data": {
      "text/plain": [
       "Text(0, 0.5, 'carbon dioxide (CO$_2$) emission rate (g/m$^2$/day)')"
      ]
     },
     "execution_count": 11,
     "metadata": {},
     "output_type": "execute_result"
    },
    {
     "data": {
      "image/png": "[encoded data removed]",
      "text/plain": [
       "<Figure size 1500x500 with 1 Axes>"
      ]
     },
     "metadata": {},
     "output_type": "display_data"
    }
   ],
   "source": [
    "fig,ax = plt.subplots(figsize=(15,5))\n",
    "ax.plot(df.index, df['value'], color='lightblue')\n",
    "ax.plot(df.index, df['value'], color='blue', marker='.', linestyle='None')   \n",
    "ax.set_ylabel('carbon dioxide (CO$_2$) emission rate (g/m$^2$/day)')"
   ]
  },
  {
   "cell_type": "markdown",
   "id": "b9acff32-7878-4dad-8d94-286f8ea26f97",
   "metadata": {},
   "source": [
    "## &nbsp;5. Lake levelling data\n",
    "## Basic data retrieval and graphing"
   ]
  },
  {
   "cell_type": "markdown",
   "id": "6be5aaea-7ee1-4c14-bfd1-44df797c4a15",
   "metadata": {},
   "source": [
    "We request lake levelling data from station at Lake Taupo.\n",
    "\n",
    "For all manually collected data:\n",
    "- domain = `manualcollect`\n",
    "\n",
    "The required parameters are:\n",
    "  - station = `TP005`, the station code for a lake levelling measurement location at Whakaari/White Island\n",
    "  - name (type of data) = `ground-vertical-displacement`\n",
    "  - sensorcode = `MC01`, code to specify 'sub' collection points\n",
    "  - method (of data collection) = `lake-levelling`\n",
    "  - aspect = `-`, not set as not relevant for this query\n",
    "\n",
    "The resulting `key` specifies the data stream:\n",
    "  - `TP005/ground-vertical-displacement/MC01/lake-levelling/-`\n",
    "\n",
    "Date range:\n",
    "  - startdate = `1970-01-01`\n",
    "  - enddate = `2024-01-01`\n",
    "\n",
    "Complete request\n",
    "- `manualcollect/TP005/ground-vertical-displacement/MC01/lake-levelling/-/1970-01-01/2024-01-01`"
   ]
  },
  {
   "cell_type": "code",
   "execution_count": 12,
   "id": "dd6bf86e-2cf5-4181-b415-c845ba8b57fc",
   "metadata": {},
   "outputs": [
    {
     "name": "stdout",
     "output_type": "stream",
     "text": [
      "<Response [200]>\n"
     ]
    },
    {
     "data": {
      "text/html": [
       "<div>\n",
       "<style scoped>\n",
       "    .dataframe tbody tr th:only-of-type {\n",
       "        vertical-align: middle;\n",
       "    }\n",
       "\n",
       "    .dataframe tbody tr th {\n",
       "        vertical-align: top;\n",
       "    }\n",
       "\n",
       "    .dataframe thead th {\n",
       "        text-align: right;\n",
       "    }\n",
       "</style>\n",
       "<table border=\"1\" class=\"dataframe\">\n",
       "  <thead>\n",
       "    <tr style=\"text-align: right;\">\n",
       "      <th></th>\n",
       "      <th>domain</th>\n",
       "      <th>station</th>\n",
       "      <th>name</th>\n",
       "      <th>sensorCode</th>\n",
       "      <th>method</th>\n",
       "      <th>aspect</th>\n",
       "      <th>value</th>\n",
       "      <th>valueUnit</th>\n",
       "      <th>error</th>\n",
       "      <th>errorUnit</th>\n",
       "      <th>qualityControl</th>\n",
       "    </tr>\n",
       "    <tr>\n",
       "      <th>timestamp</th>\n",
       "      <th></th>\n",
       "      <th></th>\n",
       "      <th></th>\n",
       "      <th></th>\n",
       "      <th></th>\n",
       "      <th></th>\n",
       "      <th></th>\n",
       "      <th></th>\n",
       "      <th></th>\n",
       "      <th></th>\n",
       "      <th></th>\n",
       "    </tr>\n",
       "  </thead>\n",
       "  <tbody>\n",
       "    <tr>\n",
       "      <th>1979-07-04 00:00:00+00:00</th>\n",
       "      <td>manualcollect</td>\n",
       "      <td>TP005</td>\n",
       "      <td>ground-vertical-displacement</td>\n",
       "      <td>MC01</td>\n",
       "      <td>lake-levelling</td>\n",
       "      <td>nil</td>\n",
       "      <td>0.000</td>\n",
       "      <td>m</td>\n",
       "      <td>0.006</td>\n",
       "      <td>m</td>\n",
       "      <td>NaN</td>\n",
       "    </tr>\n",
       "    <tr>\n",
       "      <th>1979-11-16 00:00:00+00:00</th>\n",
       "      <td>manualcollect</td>\n",
       "      <td>TP005</td>\n",
       "      <td>ground-vertical-displacement</td>\n",
       "      <td>MC01</td>\n",
       "      <td>lake-levelling</td>\n",
       "      <td>nil</td>\n",
       "      <td>0.001</td>\n",
       "      <td>m</td>\n",
       "      <td>0.006</td>\n",
       "      <td>m</td>\n",
       "      <td>NaN</td>\n",
       "    </tr>\n",
       "    <tr>\n",
       "      <th>1980-05-14 00:00:00+00:00</th>\n",
       "      <td>manualcollect</td>\n",
       "      <td>TP005</td>\n",
       "      <td>ground-vertical-displacement</td>\n",
       "      <td>MC01</td>\n",
       "      <td>lake-levelling</td>\n",
       "      <td>nil</td>\n",
       "      <td>-0.005</td>\n",
       "      <td>m</td>\n",
       "      <td>0.006</td>\n",
       "      <td>m</td>\n",
       "      <td>NaN</td>\n",
       "    </tr>\n",
       "    <tr>\n",
       "      <th>1980-10-08 00:00:00+00:00</th>\n",
       "      <td>manualcollect</td>\n",
       "      <td>TP005</td>\n",
       "      <td>ground-vertical-displacement</td>\n",
       "      <td>MC01</td>\n",
       "      <td>lake-levelling</td>\n",
       "      <td>nil</td>\n",
       "      <td>-0.002</td>\n",
       "      <td>m</td>\n",
       "      <td>0.006</td>\n",
       "      <td>m</td>\n",
       "      <td>NaN</td>\n",
       "    </tr>\n",
       "    <tr>\n",
       "      <th>1981-03-24 00:00:00+00:00</th>\n",
       "      <td>manualcollect</td>\n",
       "      <td>TP005</td>\n",
       "      <td>ground-vertical-displacement</td>\n",
       "      <td>MC01</td>\n",
       "      <td>lake-levelling</td>\n",
       "      <td>nil</td>\n",
       "      <td>-0.013</td>\n",
       "      <td>m</td>\n",
       "      <td>0.006</td>\n",
       "      <td>m</td>\n",
       "      <td>NaN</td>\n",
       "    </tr>\n",
       "  </tbody>\n",
       "</table>\n",
       "</div>"
      ],
      "text/plain": [
       "                                  domain station  \\\n",
       "timestamp                                          \n",
       "1979-07-04 00:00:00+00:00  manualcollect   TP005   \n",
       "1979-11-16 00:00:00+00:00  manualcollect   TP005   \n",
       "1980-05-14 00:00:00+00:00  manualcollect   TP005   \n",
       "1980-10-08 00:00:00+00:00  manualcollect   TP005   \n",
       "1981-03-24 00:00:00+00:00  manualcollect   TP005   \n",
       "\n",
       "                                                   name sensorCode  \\\n",
       "timestamp                                                            \n",
       "1979-07-04 00:00:00+00:00  ground-vertical-displacement       MC01   \n",
       "1979-11-16 00:00:00+00:00  ground-vertical-displacement       MC01   \n",
       "1980-05-14 00:00:00+00:00  ground-vertical-displacement       MC01   \n",
       "1980-10-08 00:00:00+00:00  ground-vertical-displacement       MC01   \n",
       "1981-03-24 00:00:00+00:00  ground-vertical-displacement       MC01   \n",
       "\n",
       "                                   method aspect  value valueUnit  error  \\\n",
       "timestamp                                                                  \n",
       "1979-07-04 00:00:00+00:00  lake-levelling    nil  0.000         m  0.006   \n",
       "1979-11-16 00:00:00+00:00  lake-levelling    nil  0.001         m  0.006   \n",
       "1980-05-14 00:00:00+00:00  lake-levelling    nil -0.005         m  0.006   \n",
       "1980-10-08 00:00:00+00:00  lake-levelling    nil -0.002         m  0.006   \n",
       "1981-03-24 00:00:00+00:00  lake-levelling    nil -0.013         m  0.006   \n",
       "\n",
       "                          errorUnit  qualityControl  \n",
       "timestamp                                            \n",
       "1979-07-04 00:00:00+00:00         m             NaN  \n",
       "1979-11-16 00:00:00+00:00         m             NaN  \n",
       "1980-05-14 00:00:00+00:00         m             NaN  \n",
       "1980-10-08 00:00:00+00:00         m             NaN  \n",
       "1981-03-24 00:00:00+00:00         m             NaN  "
      ]
     },
     "execution_count": 12,
     "metadata": {},
     "output_type": "execute_result"
    }
   ],
   "source": [
    "url = source+'manualcollect/TP005/ground-vertical-displacement/MC01/lake-levelling/-/1970-01-01/2024-01-01'\n",
    "\n",
    "r = requests.get(url, headers={'Accept':'text/csv'})\n",
    "print (r)\n",
    "\n",
    "df = pd.read_csv(StringIO(r.text),parse_dates=['timestamp'], date_format='ISO8601', index_col='timestamp')\n",
    "df.head()"
   ]
  },
  {
   "cell_type": "code",
   "execution_count": 13,
   "id": "9b71be78-ea23-48d5-a89f-f29412041583",
   "metadata": {},
   "outputs": [
    {
     "data": {
      "text/plain": [
       "Text(0, 0.5, 'vertical ground displacemet (m)')"
      ]
     },
     "execution_count": 13,
     "metadata": {},
     "output_type": "execute_result"
    },
    {
     "data": {
      "image/png": "[encoded data removed]",
      "text/plain": [
       "<Figure size 1500x500 with 1 Axes>"
      ]
     },
     "metadata": {},
     "output_type": "display_data"
    }
   ],
   "source": [
    "fig,ax = plt.subplots(figsize=(15,5))\n",
    "ax.plot(df.index, df['value'], color='lightblue')\n",
    "ax.plot(df.index, df['value'], color='blue', marker='.', linestyle='None')   \n",
    "ax.set_ylabel('vertical ground displacemet (m)')"
   ]
  },
  {
   "cell_type": "markdown",
   "id": "adaf35f5-2ea8-41bd-adbe-dd13a86c1a68",
   "metadata": {},
   "source": [
    "## &nbsp;6. Retrieval without specifying data collection method\n",
    "## Using airborne gas emission rate data"
   ]
  },
  {
   "cell_type": "markdown",
   "id": "eef6bb9e-78d5-4d4b-82a2-2b0996561ae1",
   "metadata": {},
   "source": [
    "In some cases there are multiple data collection methods (or sensor types) used to collect the same type of data. If you do not specify the collection method, the query returns data for all available methods. We modify the previous SO<sub>2</sub> gas query:\n",
    "\n",
    "  - method (of data collection) = `-`, is not set\n",
    "  - all other parameters remain unchanged\n",
    "\n",
    "Complete request\n",
    "- `manualcollect/WI000/plume-SO2-gasflux/MC01/-/-/2023-01-01/2024-09-01`"
   ]
  },
  {
   "cell_type": "code",
   "execution_count": 14,
   "id": "f6395f42-c45b-46e3-bdb3-3f8dd3b27b18",
   "metadata": {},
   "outputs": [
    {
     "name": "stdout",
     "output_type": "stream",
     "text": [
      "<Response [200]>\n"
     ]
    },
    {
     "data": {
      "text/html": [
       "<div>\n",
       "<style scoped>\n",
       "    .dataframe tbody tr th:only-of-type {\n",
       "        vertical-align: middle;\n",
       "    }\n",
       "\n",
       "    .dataframe tbody tr th {\n",
       "        vertical-align: top;\n",
       "    }\n",
       "\n",
       "    .dataframe thead th {\n",
       "        text-align: right;\n",
       "    }\n",
       "</style>\n",
       "<table border=\"1\" class=\"dataframe\">\n",
       "  <thead>\n",
       "    <tr style=\"text-align: right;\">\n",
       "      <th></th>\n",
       "      <th>domain</th>\n",
       "      <th>station</th>\n",
       "      <th>name</th>\n",
       "      <th>sensorCode</th>\n",
       "      <th>method</th>\n",
       "      <th>aspect</th>\n",
       "      <th>value</th>\n",
       "      <th>valueUnit</th>\n",
       "      <th>error</th>\n",
       "      <th>errorUnit</th>\n",
       "      <th>qualityControl</th>\n",
       "    </tr>\n",
       "    <tr>\n",
       "      <th>timestamp</th>\n",
       "      <th></th>\n",
       "      <th></th>\n",
       "      <th></th>\n",
       "      <th></th>\n",
       "      <th></th>\n",
       "      <th></th>\n",
       "      <th></th>\n",
       "      <th></th>\n",
       "      <th></th>\n",
       "      <th></th>\n",
       "      <th></th>\n",
       "    </tr>\n",
       "  </thead>\n",
       "  <tbody>\n",
       "    <tr>\n",
       "      <th>2023-01-15 21:30:00+00:00</th>\n",
       "      <td>manualcollect</td>\n",
       "      <td>WI000</td>\n",
       "      <td>plume-SO2-gasflux</td>\n",
       "      <td>MC01</td>\n",
       "      <td>contouring</td>\n",
       "      <td>nil</td>\n",
       "      <td>0.377315</td>\n",
       "      <td>kg/s</td>\n",
       "      <td>0.047454</td>\n",
       "      <td>kg/s</td>\n",
       "      <td>NaN</td>\n",
       "    </tr>\n",
       "    <tr>\n",
       "      <th>2023-02-07 23:30:00+00:00</th>\n",
       "      <td>manualcollect</td>\n",
       "      <td>WI000</td>\n",
       "      <td>plume-SO2-gasflux</td>\n",
       "      <td>MC01</td>\n",
       "      <td>contouring</td>\n",
       "      <td>nil</td>\n",
       "      <td>0.355324</td>\n",
       "      <td>kg/s</td>\n",
       "      <td>0.006944</td>\n",
       "      <td>kg/s</td>\n",
       "      <td>NaN</td>\n",
       "    </tr>\n",
       "    <tr>\n",
       "      <th>2023-03-09 12:30:00+00:00</th>\n",
       "      <td>manualcollect</td>\n",
       "      <td>WI000</td>\n",
       "      <td>plume-SO2-gasflux</td>\n",
       "      <td>MC01</td>\n",
       "      <td>contouring</td>\n",
       "      <td>nil</td>\n",
       "      <td>1.292820</td>\n",
       "      <td>kg/s</td>\n",
       "      <td>0.074074</td>\n",
       "      <td>kg/s</td>\n",
       "      <td>NaN</td>\n",
       "    </tr>\n",
       "    <tr>\n",
       "      <th>2023-04-26 01:00:00+00:00</th>\n",
       "      <td>manualcollect</td>\n",
       "      <td>WI000</td>\n",
       "      <td>plume-SO2-gasflux</td>\n",
       "      <td>MC01</td>\n",
       "      <td>contouring</td>\n",
       "      <td>nil</td>\n",
       "      <td>1.098380</td>\n",
       "      <td>kg/s</td>\n",
       "      <td>0.031250</td>\n",
       "      <td>kg/s</td>\n",
       "      <td>NaN</td>\n",
       "    </tr>\n",
       "    <tr>\n",
       "      <th>2023-06-12 02:30:00+00:00</th>\n",
       "      <td>manualcollect</td>\n",
       "      <td>WI000</td>\n",
       "      <td>plume-SO2-gasflux</td>\n",
       "      <td>MC01</td>\n",
       "      <td>contouring</td>\n",
       "      <td>nil</td>\n",
       "      <td>2.581020</td>\n",
       "      <td>kg/s</td>\n",
       "      <td>0.101852</td>\n",
       "      <td>kg/s</td>\n",
       "      <td>NaN</td>\n",
       "    </tr>\n",
       "  </tbody>\n",
       "</table>\n",
       "</div>"
      ],
      "text/plain": [
       "                                  domain station               name  \\\n",
       "timestamp                                                             \n",
       "2023-01-15 21:30:00+00:00  manualcollect   WI000  plume-SO2-gasflux   \n",
       "2023-02-07 23:30:00+00:00  manualcollect   WI000  plume-SO2-gasflux   \n",
       "2023-03-09 12:30:00+00:00  manualcollect   WI000  plume-SO2-gasflux   \n",
       "2023-04-26 01:00:00+00:00  manualcollect   WI000  plume-SO2-gasflux   \n",
       "2023-06-12 02:30:00+00:00  manualcollect   WI000  plume-SO2-gasflux   \n",
       "\n",
       "                          sensorCode      method aspect     value valueUnit  \\\n",
       "timestamp                                                                     \n",
       "2023-01-15 21:30:00+00:00       MC01  contouring    nil  0.377315      kg/s   \n",
       "2023-02-07 23:30:00+00:00       MC01  contouring    nil  0.355324      kg/s   \n",
       "2023-03-09 12:30:00+00:00       MC01  contouring    nil  1.292820      kg/s   \n",
       "2023-04-26 01:00:00+00:00       MC01  contouring    nil  1.098380      kg/s   \n",
       "2023-06-12 02:30:00+00:00       MC01  contouring    nil  2.581020      kg/s   \n",
       "\n",
       "                              error errorUnit  qualityControl  \n",
       "timestamp                                                      \n",
       "2023-01-15 21:30:00+00:00  0.047454      kg/s             NaN  \n",
       "2023-02-07 23:30:00+00:00  0.006944      kg/s             NaN  \n",
       "2023-03-09 12:30:00+00:00  0.074074      kg/s             NaN  \n",
       "2023-04-26 01:00:00+00:00  0.031250      kg/s             NaN  \n",
       "2023-06-12 02:30:00+00:00  0.101852      kg/s             NaN  "
      ]
     },
     "execution_count": 14,
     "metadata": {},
     "output_type": "execute_result"
    }
   ],
   "source": [
    "url = source+'manualcollect/WI000/plume-SO2-gasflux/MC01/-/-/2023-01-01/2024-09-01'\n",
    "\n",
    "r = requests.get(url, headers={'Accept':'text/csv'})\n",
    "print (r)\n",
    "\n",
    "df = pd.read_csv(StringIO(r.text),parse_dates=['timestamp'], date_format='ISO8601', index_col='timestamp')\n",
    "df.head()"
   ]
  },
  {
   "cell_type": "markdown",
   "id": "24569c90-178d-44f7-ab6d-e92219b268b0",
   "metadata": {},
   "source": [
    "You may notice that the top five rows of the dataframe (from `df.head()`) show a method of `contouring`, not `flyspec` from the previous query. If we examine the values of `method` we see what methods were returned, in this case `contouring`, `cospec`, `flyspec`, `mobile-doas`. The query returns the data sorted first by `method` and then by `timestamp`."
   ]
  },
  {
   "cell_type": "code",
   "execution_count": 15,
   "id": "56a68053-8b2e-4fe7-b864-39f9ce295ac5",
   "metadata": {},
   "outputs": [
    {
     "data": {
      "text/plain": [
       "array(['contouring', 'cospec', 'flyspec', 'mobile-doas'], dtype=object)"
      ]
     },
     "execution_count": 15,
     "metadata": {},
     "output_type": "execute_result"
    }
   ],
   "source": [
    "df['method'].unique() #give all the values for method"
   ]
  },
  {
   "cell_type": "markdown",
   "id": "a67476b8-b35d-4c3c-85e0-fc5537515e05",
   "metadata": {},
   "source": [
    "If you want SO$_2$ emission rates for all data collection methods, you can make a query for each method, or a single query and than later select which data you are interested in.\n",
    "\n",
    "We produce a basic graph of the SO$_2$ emission rate against time and show values using the `contouring` and `flyspec` data collection methods. "
   ]
  },
  {
   "cell_type": "code",
   "execution_count": 16,
   "id": "10cfc5f5-40ec-45c5-b710-4d8672efbce0",
   "metadata": {},
   "outputs": [
    {
     "data": {
      "text/plain": [
       "<matplotlib.legend.Legend at 0x7e9a54dd5e50>"
      ]
     },
     "execution_count": 16,
     "metadata": {},
     "output_type": "execute_result"
    },
    {
     "data": {
      "image/png": "[encoded data removed]",
      "text/plain": [
       "<Figure size 1500x500 with 1 Axes>"
      ]
     },
     "metadata": {},
     "output_type": "display_data"
    }
   ],
   "source": [
    "fig,ax = plt.subplots(figsize=(15,5))\n",
    "contour = df[df['method']=='contouring']\n",
    "ax.plot(contour.index, contour['value'], color='lightcoral')\n",
    "ax.plot(contour.index, contour['value'], color='red', marker='.', linestyle='None', label='contouring')\n",
    "\n",
    "flyspec = df[df['method']=='flyspec']\n",
    "ax.plot(flyspec.index, flyspec['value'], color='lightblue')\n",
    "ax.plot(flyspec.index, flyspec['value'], color='blue', marker='.', linestyle='None', label='flyspec')\n",
    "\n",
    "ax.set_ylabel('sulphur dioxide (SO$_2$) emission rate (kg/s)')\n",
    "ax.legend(loc='upper left')"
   ]
  },
  {
   "cell_type": "markdown",
   "id": "eb18c6a1-9e0e-4b5d-af6e-2000e56c5aba",
   "metadata": {},
   "source": [
    "## &nbsp;7. Retrieval without specifying sensor code\n",
    "## Using water chemistry concentration data"
   ]
  },
  {
   "cell_type": "markdown",
   "id": "9b298d4a-a777-496a-8b88-05f43957dc6b",
   "metadata": {},
   "source": [
    "In some cases multiple sensor codes have been used at a single station to collect the same type of data. This commonly occurs when the feature being sampled/measured changes slightly and the sampling/measurement location changes, but not enough to require a new station code. For more information refer to the Tilde volcano [Supplementary notes](https://www.geonet.org.nz/data/supplementary/volcano_tilde_notes).\n",
    "\n",
    "If we do not specify the sensor code, we retrieve data from all sensors code at that station. This can be useful to show the complete history of data at a station.\n",
    "\n",
    "We request data on the concentration of Chloride (Cl) in water from Black Pot Spring at Whakaari/White island.\n",
    "\n",
    "For all manually collected data:\n",
    "- domain = `manualcollect`\n",
    "\n",
    "The specific parameters are:\n",
    "  - station = `WI221`, the station code for Black Pot Spring\n",
    "  - name (type of data) = `spring-Cl-conc`\n",
    "  - sensorcode = `-`, is not set to get all relevant sensorcodes\n",
    "  - method (of data collection) = `water-analysis-lab`\n",
    "  - aspect = `-`, not set as not relevant for this query\n",
    "\n",
    "The resulting `key` specifies the data stream:\n",
    "  - `WI221/spring-Cl-conc/-/water-analysis-lab/-`\n",
    "\n",
    "Date range:\n",
    "  - startdate = `2000-01-01`\n",
    "  - enddate = `2020-01-01`\n",
    "\n",
    "Complete request\n",
    "- `manualcollect/WI221/spring-Cl-conc/-/water-analysis-lab/-/2000-01-01/2020-01-01`"
   ]
  },
  {
   "cell_type": "code",
   "execution_count": 17,
   "id": "3079e7e1-6ffd-4ad9-933b-ce5fcdf292ae",
   "metadata": {},
   "outputs": [
    {
     "name": "stdout",
     "output_type": "stream",
     "text": [
      "<Response [200]>\n"
     ]
    },
    {
     "data": {
      "text/html": [
       "<div>\n",
       "<style scoped>\n",
       "    .dataframe tbody tr th:only-of-type {\n",
       "        vertical-align: middle;\n",
       "    }\n",
       "\n",
       "    .dataframe tbody tr th {\n",
       "        vertical-align: top;\n",
       "    }\n",
       "\n",
       "    .dataframe thead th {\n",
       "        text-align: right;\n",
       "    }\n",
       "</style>\n",
       "<table border=\"1\" class=\"dataframe\">\n",
       "  <thead>\n",
       "    <tr style=\"text-align: right;\">\n",
       "      <th></th>\n",
       "      <th>domain</th>\n",
       "      <th>station</th>\n",
       "      <th>name</th>\n",
       "      <th>sensorCode</th>\n",
       "      <th>method</th>\n",
       "      <th>aspect</th>\n",
       "      <th>value</th>\n",
       "      <th>valueUnit</th>\n",
       "      <th>error</th>\n",
       "      <th>errorUnit</th>\n",
       "      <th>qualityControl</th>\n",
       "    </tr>\n",
       "    <tr>\n",
       "      <th>timestamp</th>\n",
       "      <th></th>\n",
       "      <th></th>\n",
       "      <th></th>\n",
       "      <th></th>\n",
       "      <th></th>\n",
       "      <th></th>\n",
       "      <th></th>\n",
       "      <th></th>\n",
       "      <th></th>\n",
       "      <th></th>\n",
       "      <th></th>\n",
       "    </tr>\n",
       "  </thead>\n",
       "  <tbody>\n",
       "    <tr>\n",
       "      <th>2000-02-15 00:00:00+00:00</th>\n",
       "      <td>manualcollect</td>\n",
       "      <td>WI221</td>\n",
       "      <td>spring-Cl-conc</td>\n",
       "      <td>MC01</td>\n",
       "      <td>water-analysis-lab</td>\n",
       "      <td>nil</td>\n",
       "      <td>498.0</td>\n",
       "      <td>mg/L</td>\n",
       "      <td>0.0</td>\n",
       "      <td>mg/L</td>\n",
       "      <td>NaN</td>\n",
       "    </tr>\n",
       "    <tr>\n",
       "      <th>2000-03-20 00:00:00+00:00</th>\n",
       "      <td>manualcollect</td>\n",
       "      <td>WI221</td>\n",
       "      <td>spring-Cl-conc</td>\n",
       "      <td>MC01</td>\n",
       "      <td>water-analysis-lab</td>\n",
       "      <td>nil</td>\n",
       "      <td>582.0</td>\n",
       "      <td>mg/L</td>\n",
       "      <td>0.0</td>\n",
       "      <td>mg/L</td>\n",
       "      <td>NaN</td>\n",
       "    </tr>\n",
       "    <tr>\n",
       "      <th>2000-07-31 00:00:00+00:00</th>\n",
       "      <td>manualcollect</td>\n",
       "      <td>WI221</td>\n",
       "      <td>spring-Cl-conc</td>\n",
       "      <td>MC01</td>\n",
       "      <td>water-analysis-lab</td>\n",
       "      <td>nil</td>\n",
       "      <td>4389.0</td>\n",
       "      <td>mg/L</td>\n",
       "      <td>0.0</td>\n",
       "      <td>mg/L</td>\n",
       "      <td>NaN</td>\n",
       "    </tr>\n",
       "    <tr>\n",
       "      <th>2000-08-07 00:00:00+00:00</th>\n",
       "      <td>manualcollect</td>\n",
       "      <td>WI221</td>\n",
       "      <td>spring-Cl-conc</td>\n",
       "      <td>MC01</td>\n",
       "      <td>water-analysis-lab</td>\n",
       "      <td>nil</td>\n",
       "      <td>2373.0</td>\n",
       "      <td>mg/L</td>\n",
       "      <td>0.0</td>\n",
       "      <td>mg/L</td>\n",
       "      <td>NaN</td>\n",
       "    </tr>\n",
       "    <tr>\n",
       "      <th>2000-08-24 00:00:00+00:00</th>\n",
       "      <td>manualcollect</td>\n",
       "      <td>WI221</td>\n",
       "      <td>spring-Cl-conc</td>\n",
       "      <td>MC01</td>\n",
       "      <td>water-analysis-lab</td>\n",
       "      <td>nil</td>\n",
       "      <td>2130.0</td>\n",
       "      <td>mg/L</td>\n",
       "      <td>0.0</td>\n",
       "      <td>mg/L</td>\n",
       "      <td>NaN</td>\n",
       "    </tr>\n",
       "  </tbody>\n",
       "</table>\n",
       "</div>"
      ],
      "text/plain": [
       "                                  domain station            name sensorCode  \\\n",
       "timestamp                                                                     \n",
       "2000-02-15 00:00:00+00:00  manualcollect   WI221  spring-Cl-conc       MC01   \n",
       "2000-03-20 00:00:00+00:00  manualcollect   WI221  spring-Cl-conc       MC01   \n",
       "2000-07-31 00:00:00+00:00  manualcollect   WI221  spring-Cl-conc       MC01   \n",
       "2000-08-07 00:00:00+00:00  manualcollect   WI221  spring-Cl-conc       MC01   \n",
       "2000-08-24 00:00:00+00:00  manualcollect   WI221  spring-Cl-conc       MC01   \n",
       "\n",
       "                                       method aspect   value valueUnit  error  \\\n",
       "timestamp                                                                       \n",
       "2000-02-15 00:00:00+00:00  water-analysis-lab    nil   498.0      mg/L    0.0   \n",
       "2000-03-20 00:00:00+00:00  water-analysis-lab    nil   582.0      mg/L    0.0   \n",
       "2000-07-31 00:00:00+00:00  water-analysis-lab    nil  4389.0      mg/L    0.0   \n",
       "2000-08-07 00:00:00+00:00  water-analysis-lab    nil  2373.0      mg/L    0.0   \n",
       "2000-08-24 00:00:00+00:00  water-analysis-lab    nil  2130.0      mg/L    0.0   \n",
       "\n",
       "                          errorUnit  qualityControl  \n",
       "timestamp                                            \n",
       "2000-02-15 00:00:00+00:00      mg/L             NaN  \n",
       "2000-03-20 00:00:00+00:00      mg/L             NaN  \n",
       "2000-07-31 00:00:00+00:00      mg/L             NaN  \n",
       "2000-08-07 00:00:00+00:00      mg/L             NaN  \n",
       "2000-08-24 00:00:00+00:00      mg/L             NaN  "
      ]
     },
     "execution_count": 17,
     "metadata": {},
     "output_type": "execute_result"
    }
   ],
   "source": [
    "url = source+'manualcollect/WI221/spring-Cl-conc/-/water-analysis-lab/-/2000-01-01/2020-01-01'\n",
    "\n",
    "r = requests.get(url, headers={'Accept':'text/csv'})\n",
    "print (r)\n",
    "\n",
    "df = pd.read_csv(StringIO(r.text),parse_dates=['timestamp'], date_format='ISO8601', index_col='timestamp')\n",
    "df.head()"
   ]
  },
  {
   "cell_type": "markdown",
   "id": "cf3eff86-93d8-4ff7-b43d-7c57db6ce444",
   "metadata": {},
   "source": [
    "There are four unique sensor codes. These record the small changes in sampling/measurement location at station WI221."
   ]
  },
  {
   "cell_type": "code",
   "execution_count": 18,
   "id": "49d9ec6a-6a70-4371-bce1-29781053b7f4",
   "metadata": {},
   "outputs": [
    {
     "data": {
      "text/plain": [
       "array(['MC01', 'MC02', 'MC03', 'MC04'], dtype=object)"
      ]
     },
     "execution_count": 18,
     "metadata": {},
     "output_type": "execute_result"
    }
   ],
   "source": [
    "df['sensorCode'].unique() #give all the values for sensorCode"
   ]
  },
  {
   "cell_type": "markdown",
   "id": "e7015bfd-2f6f-4b6c-9312-1ad07e8684d6",
   "metadata": {},
   "source": [
    "You can query each sensor code separately, or use a single query and than later select which data you are interested in.\n",
    "\n",
    "We produce a basic graph of the Cl concentration against time and show values for each of the sensor codes. "
   ]
  },
  {
   "cell_type": "code",
   "execution_count": 19,
   "id": "56d19c0b-6b27-4b41-90dc-06163c225d75",
   "metadata": {},
   "outputs": [
    {
     "data": {
      "text/plain": [
       "<matplotlib.legend.Legend at 0x7e9a55767da0>"
      ]
     },
     "execution_count": 19,
     "metadata": {},
     "output_type": "execute_result"
    },
    {
     "data": {
      "image/png": "[encoded data removed]",
      "text/plain": [
       "<Figure size 1500x500 with 1 Axes>"
      ]
     },
     "metadata": {},
     "output_type": "display_data"
    }
   ],
   "source": [
    "fig,ax = plt.subplots(figsize=(15,5))\n",
    "mc01 = df[df['sensorCode']=='MC01']\n",
    "ax.plot(mc01.index, mc01['value'], color='lightcoral')\n",
    "ax.plot(mc01.index, mc01['value'], color='red', marker='.', linestyle='None', label='MC01')\n",
    "\n",
    "mc02 = df[df['sensorCode']=='MC02']\n",
    "ax.plot(mc02.index, mc02['value'], color='lightblue')\n",
    "ax.plot(mc02.index, mc02['value'], color='blue', marker='.', linestyle='None', label='MC02')\n",
    "\n",
    "mc03 = df[df['sensorCode']=='MC03']\n",
    "ax.plot(mc03.index, mc03['value'], color='lightgreen')\n",
    "ax.plot(mc03.index, mc03['value'], color='green', marker='.', linestyle='None', label='MC03')\n",
    "\n",
    "mc04 = df[df['sensorCode']=='MC04']\n",
    "ax.plot(mc04.index, mc04['value'], color='moccasin')\n",
    "ax.plot(mc04.index, mc04['value'], color='orange', marker='.', linestyle='None', label='MC04')\n",
    "\n",
    "ax.set_ylabel('chloride(Cl) concentration (mg/L)')\n",
    "ax.legend(loc='upper right')"
   ]
  },
  {
   "cell_type": "markdown",
   "id": "aef2d74b-1846-46ce-a018-9cd53d9d1b88",
   "metadata": {},
   "source": [
    "## &nbsp;8. Creating spreadsheet-like output\n",
    "## Using water chemistry concentration data"
   ]
  },
  {
   "cell_type": "markdown",
   "id": "9cd2593e-b75d-4bce-a745-fbab3b1ea0e5",
   "metadata": {},
   "source": [
    "Volcanic chemists often need to compare analyte concentrations from one analyte to another. They typically do this with a spreadsheet, with time in the first column and an analyte in each column across the top. Tilde deals with each data stream (analyte concentration over time) separately, but we can request concentrations for all analytes at a given site and construct a spreadsheet-like view. We can also add metadata parameters to increase the value of the view."
   ]
  },
  {
   "cell_type": "markdown",
   "id": "f57dddc3-fa71-48fb-8016-9d1d9af08139",
   "metadata": {},
   "source": [
    "### Specify the data required"
   ]
  },
  {
   "cell_type": "code",
   "execution_count": 20,
   "id": "5e14b743-15bb-40ed-8783-c720310419c6",
   "metadata": {},
   "outputs": [],
   "source": [
    "source = 'https://tilde.geonet.org.nz/v4'\n",
    "\n",
    "mydomain = 'manualcollect'\n",
    "mystation = 'RU020'\n",
    "mysensorcode = 'MC01'\n",
    "mymethod = 'water-analysis-lab'\n",
    "myaspect = 'nil'\n",
    "mytimes = '2020-01-01/2024-01-01'\n",
    "myfeature = 'stream'"
   ]
  },
  {
   "cell_type": "markdown",
   "id": "fb638c95-9799-4d4f-9213-90d67732a1db",
   "metadata": {},
   "source": [
    "### Function to build the sheet. There are some parts specific to water chemistry concentration data"
   ]
  },
  {
   "cell_type": "code",
   "execution_count": 21,
   "id": "d44878c2-cd46-44a9-8d54-eac17ba00938",
   "metadata": {},
   "outputs": [],
   "source": [
    "def buildsheet(source, domain, station, sensorcode, method, aspect, feature, times):\n",
    "    \n",
    "    #dataSummary query\n",
    "    url = source+'/dataSummary/'+domain\n",
    "    r = requests.get(url)\n",
    "    summary = r.json()\n",
    "        \n",
    "    #list all data names\n",
    "    datanames = summary['domain'][mydomain]['stations'][mystation]['sensorCodes'][mysensorcode]['names']\n",
    "   \n",
    "    #names to a list\n",
    "    names = []\n",
    "    for key,val in datanames.items():\n",
    "        names.append(val['name'])\n",
    "\n",
    "    print (names)\n",
    "    \n",
    "    data = pd.DataFrame()\n",
    "    for name in names:\n",
    "        url = os.path.join(source,'data',domain,station,name,sensorcode,method,aspect,times)\n",
    "        #data request\n",
    "        r = requests.get(url, headers={'Accept':'text/csv'})\n",
    "        if r.status_code == 200:\n",
    "            df = pd.read_csv(StringIO(r.text),parse_dates=['timestamp'], index_col='timestamp')\n",
    "            data = pd.concat([data,df])\n",
    "      \n",
    "    #date without time\n",
    "    data['date'] = data.index.date\n",
    "    \n",
    "    #typical chemists spreadsheet style\n",
    "    sheet = pd.pivot_table(data, index='date', values='value', columns='name')\n",
    "\n",
    "    #remove unnecessaries from column names from analyte concentrations\n",
    "    sheet.columns = sheet.columns.str.replace(feature+'-', '')\n",
    "    sheet.columns = sheet.columns.str.replace('-conc', '')\n",
    "    \n",
    "    #add all other data to columns to right\n",
    "    sheet['domain'] = domain\n",
    "    sheet['station'] = station\n",
    "    sheet['sensorcode'] = sensorcode\n",
    "    sheet['method'] = method\n",
    "    sheet['aspect'] = aspect\n",
    "    sheet['times'] = times\n",
    "    sheet['feature'] = feature\n",
    "    \n",
    "    #get additional information from station code in GitHub repo\n",
    "    gh = 'https://raw.githubusercontent.com/GeoNet/delta/main/network/samples.csv'\n",
    "    ghdf = pd.read_csv(gh)\n",
    "    station_name = ghdf.loc[ghdf['Station'] == station, 'Name'].item()\n",
    "    station_latitude = ghdf.loc[ghdf['Station'] == station, 'Latitude'].item()\n",
    "    station_longitude = ghdf.loc[ghdf['Station'] == station, 'Longitude'].item()\n",
    "    station_elevation = ghdf.loc[ghdf['Station'] == station, 'Elevation'].item()\n",
    "    station_datum = ghdf.loc[ghdf['Station'] == station, 'Datum'].item()\n",
    "    #add these columns\n",
    "    sheet['station_name'] = station_name\n",
    "    sheet['station_latitude'] = station_latitude\n",
    "    sheet['station_longitude'] = station_longitude\n",
    "    sheet['station_elevation'] = station_elevation\n",
    "    sheet['station_datum'] = station_datum\n",
    "    \n",
    "    return(sheet)"
   ]
  },
  {
   "cell_type": "markdown",
   "id": "03998126-95dd-4856-8e75-2bafcf5505e9",
   "metadata": {},
   "source": [
    "### Build the sheet"
   ]
  },
  {
   "cell_type": "code",
   "execution_count": 22,
   "id": "1ff8afb3-0582-4fab-8538-12ea8cd24499",
   "metadata": {},
   "outputs": [
    {
     "name": "stdout",
     "output_type": "stream",
     "text": [
      "['stream-Al-conc', 'stream-As-conc', 'stream-B-conc', 'stream-Br-conc', 'stream-Ca-conc', 'stream-Cl-conc', 'stream-F-conc', 'stream-Fe-conc', 'stream-H2S-conc', 'stream-HCO3-conc', 'stream-K-conc', 'stream-Li-conc', 'stream-Mg-conc', 'stream-NH3-conc', 'stream-NO3-N-conc', 'stream-Na-conc', 'stream-PO4-P-conc', 'stream-SO4-conc', 'stream-SiO2-conc', 'stream-d18O-conc', 'stream-d2H-conc', 'stream-pH', 'stream-temperature']\n"
     ]
    }
   ],
   "source": [
    "mysheet = buildsheet(source, mydomain, mystation, mysensorcode, mymethod, myaspect, myfeature, mytimes)"
   ]
  },
  {
   "cell_type": "markdown",
   "id": "b9898ef3-6cd6-41a4-aea8-db36266d9ffd",
   "metadata": {},
   "source": [
    "### Format a filename and write the spreadsheet-like view as a CSV file"
   ]
  },
  {
   "cell_type": "code",
   "execution_count": 23,
   "id": "4bd7fa31-f2b2-471b-b1d9-080bd9995a32",
   "metadata": {},
   "outputs": [],
   "source": [
    "timesfmt = mytimes.replace('/', '_')  \n",
    "outfile = mystation+'_'+mysensorcode+'_'+mymethod+'_'+myaspect+'_'+timesfmt+'_multiview.csv'\n",
    "mysheet.to_csv(outfile)"
   ]
  }
 ],
 "metadata": {
  "kernelspec": {
   "display_name": "geonet-tutorial",
   "language": "python",
   "name": "geonet-tutorial"
  },
  "language_info": {
   "codemirror_mode": {
    "name": "ipython",
    "version": 3
   },
   "file_extension": ".py",
   "mimetype": "text/x-python",
   "name": "python",
   "nbconvert_exporter": "python",
   "pygments_lexer": "ipython3",
   "version": "3.12.7"
  }
 },
 "nbformat": 4,
 "nbformat_minor": 5
}
